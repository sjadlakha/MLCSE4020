{
 "metadata": {
  "language_info": {
   "codemirror_mode": {
    "name": "ipython",
    "version": 3
   },
   "file_extension": ".py",
   "mimetype": "text/x-python",
   "name": "python",
   "nbconvert_exporter": "python",
   "pygments_lexer": "ipython3",
   "version": "3.9.1-final"
  },
  "orig_nbformat": 2,
  "kernelspec": {
   "name": "python3",
   "display_name": "Python 3.9.1 64-bit",
   "metadata": {
    "interpreter": {
     "hash": "aee8b7b246df8f9039afb4144a1f6fd8d2ca17a180786b69acc140d282b71a49"
    }
   }
  }
 },
 "nbformat": 4,
 "nbformat_minor": 2,
 "cells": [
  {
   "cell_type": "code",
   "execution_count": 62,
   "metadata": {},
   "outputs": [],
   "source": [
    "import pandas as pd\n",
    "import numpy as np"
   ]
  },
  {
   "cell_type": "code",
   "execution_count": 63,
   "metadata": {},
   "outputs": [],
   "source": [
    "# load data\n",
    "data = pd.read_csv('/Users/sahajadlakha/Documents/DEV_ZONE/MachineLearning/MLCSE4020/lab-2/data/crx.data', header = None)"
   ]
  },
  {
   "cell_type": "code",
   "execution_count": 64,
   "metadata": {},
   "outputs": [],
   "source": [
    "# creating list of variables for the dataset\n",
    "varnames = ['A' + str(i) for i in range(1,17)]"
   ]
  },
  {
   "cell_type": "code",
   "execution_count": 65,
   "metadata": {},
   "outputs": [],
   "source": [
    "# adding column names\n",
    "data.columns = varnames"
   ]
  },
  {
   "cell_type": "code",
   "execution_count": 66,
   "metadata": {},
   "outputs": [],
   "source": [
    "# replace ? with np.nan\n",
    "data = data.replace('?', np.nan)"
   ]
  },
  {
   "cell_type": "code",
   "execution_count": 67,
   "metadata": {},
   "outputs": [
    {
     "output_type": "stream",
     "name": "stdout",
     "text": [
      "    A1     A2      A3 A4 A5  A6  A7    A8 A9 A10  A11 A12 A13    A14  A15 A16\n0    b  30.83   0.000  u  g   w   v  1.25  t   t    1   f   g  00202    0   +\n1    a  58.67   4.460  u  g   q   h  3.04  t   t    6   f   g  00043  560   +\n2    a  24.50   0.500  u  g   q   h  1.50  t   f    0   f   g  00280  824   +\n3    b  27.83   1.540  u  g   w   v  3.75  t   t    5   t   g  00100    3   +\n4    b  20.17   5.625  u  g   w   v  1.71  t   f    0   f   s  00120    0   +\n..  ..    ...     ... .. ..  ..  ..   ... ..  ..  ...  ..  ..    ...  ...  ..\n685  b  21.08  10.085  y  p   e   h  1.25  f   f    0   f   g  00260    0   -\n686  a  22.67   0.750  u  g   c   v  2.00  f   t    2   t   g  00200  394   -\n687  a  25.25  13.500  y  p  ff  ff  2.00  f   t    1   t   g  00200    1   -\n688  b  17.92   0.205  u  g  aa   v  0.04  f   f    0   f   g  00280  750   -\n689  b  35.00   3.375  u  g   c   h  8.29  f   f    0   t   g  00000    0   -\n\n[690 rows x 16 columns]\n"
     ]
    }
   ],
   "source": [
    "print(data)"
   ]
  },
  {
   "cell_type": "code",
   "execution_count": 68,
   "metadata": {},
   "outputs": [],
   "source": [
    "# re-cast some variable types to its correct type\n",
    "data['A2'] = data['A2'].astype('float')"
   ]
  },
  {
   "cell_type": "code",
   "execution_count": 69,
   "metadata": {},
   "outputs": [],
   "source": [
    "# encode target var, A16 to binary\n",
    "data['A16'] = data['A16'].map({'+':1, '-':0})"
   ]
  },
  {
   "cell_type": "code",
   "execution_count": 70,
   "metadata": {},
   "outputs": [
    {
     "output_type": "stream",
     "name": "stdout",
     "text": [
      "    A1     A2      A3 A4 A5  A6  A7    A8 A9 A10  A11 A12 A13    A14  A15  A16\n0    b  30.83   0.000  u  g   w   v  1.25  t   t    1   f   g  00202    0    1\n1    a  58.67   4.460  u  g   q   h  3.04  t   t    6   f   g  00043  560    1\n2    a  24.50   0.500  u  g   q   h  1.50  t   f    0   f   g  00280  824    1\n3    b  27.83   1.540  u  g   w   v  3.75  t   t    5   t   g  00100    3    1\n4    b  20.17   5.625  u  g   w   v  1.71  t   f    0   f   s  00120    0    1\n..  ..    ...     ... .. ..  ..  ..   ... ..  ..  ...  ..  ..    ...  ...  ...\n685  b  21.08  10.085  y  p   e   h  1.25  f   f    0   f   g  00260    0    0\n686  a  22.67   0.750  u  g   c   v  2.00  f   t    2   t   g  00200  394    0\n687  a  25.25  13.500  y  p  ff  ff  2.00  f   t    1   t   g  00200    1    0\n688  b  17.92   0.205  u  g  aa   v  0.04  f   f    0   f   g  00280  750    0\n689  b  35.00   3.375  u  g   c   h  8.29  f   f    0   t   g  00000    0    0\n\n[690 rows x 16 columns]\n"
     ]
    }
   ],
   "source": [
    "print(data)"
   ]
  },
  {
   "cell_type": "code",
   "execution_count": 71,
   "metadata": {},
   "outputs": [
    {
     "output_type": "stream",
     "name": "stdout",
     "text": [
      "<class 'pandas.core.frame.DataFrame'>\nRangeIndex: 690 entries, 0 to 689\nData columns (total 16 columns):\n #   Column  Non-Null Count  Dtype  \n---  ------  --------------  -----  \n 0   A1      678 non-null    object \n 1   A2      678 non-null    float64\n 2   A3      690 non-null    float64\n 3   A4      684 non-null    object \n 4   A5      684 non-null    object \n 5   A6      681 non-null    object \n 6   A7      681 non-null    object \n 7   A8      690 non-null    float64\n 8   A9      690 non-null    object \n 9   A10     690 non-null    object \n 10  A11     690 non-null    int64  \n 11  A12     690 non-null    object \n 12  A13     690 non-null    object \n 13  A14     677 non-null    object \n 14  A15     690 non-null    int64  \n 15  A16     690 non-null    int64  \ndtypes: float64(3), int64(3), object(10)\nmemory usage: 86.4+ KB\n"
     ]
    }
   ],
   "source": [
    "data.info()"
   ]
  },
  {
   "cell_type": "code",
   "execution_count": 72,
   "metadata": {},
   "outputs": [
    {
     "output_type": "execute_result",
     "data": {
      "text/plain": [
       "    A1     A2      A3 A4 A5  A6  A7    A8 A9 A10  A11 A12 A13    A14  A15  A16\n",
       "685  b  21.08  10.085  y  p   e   h  1.25  f   f    0   f   g  00260    0    0\n",
       "686  a  22.67   0.750  u  g   c   v  2.00  f   t    2   t   g  00200  394    0\n",
       "687  a  25.25  13.500  y  p  ff  ff  2.00  f   t    1   t   g  00200    1    0\n",
       "688  b  17.92   0.205  u  g  aa   v  0.04  f   f    0   f   g  00280  750    0\n",
       "689  b  35.00   3.375  u  g   c   h  8.29  f   f    0   t   g  00000    0    0"
      ],
      "text/html": "<div>\n<style scoped>\n    .dataframe tbody tr th:only-of-type {\n        vertical-align: middle;\n    }\n\n    .dataframe tbody tr th {\n        vertical-align: top;\n    }\n\n    .dataframe thead th {\n        text-align: right;\n    }\n</style>\n<table border=\"1\" class=\"dataframe\">\n  <thead>\n    <tr style=\"text-align: right;\">\n      <th></th>\n      <th>A1</th>\n      <th>A2</th>\n      <th>A3</th>\n      <th>A4</th>\n      <th>A5</th>\n      <th>A6</th>\n      <th>A7</th>\n      <th>A8</th>\n      <th>A9</th>\n      <th>A10</th>\n      <th>A11</th>\n      <th>A12</th>\n      <th>A13</th>\n      <th>A14</th>\n      <th>A15</th>\n      <th>A16</th>\n    </tr>\n  </thead>\n  <tbody>\n    <tr>\n      <th>685</th>\n      <td>b</td>\n      <td>21.08</td>\n      <td>10.085</td>\n      <td>y</td>\n      <td>p</td>\n      <td>e</td>\n      <td>h</td>\n      <td>1.25</td>\n      <td>f</td>\n      <td>f</td>\n      <td>0</td>\n      <td>f</td>\n      <td>g</td>\n      <td>00260</td>\n      <td>0</td>\n      <td>0</td>\n    </tr>\n    <tr>\n      <th>686</th>\n      <td>a</td>\n      <td>22.67</td>\n      <td>0.750</td>\n      <td>u</td>\n      <td>g</td>\n      <td>c</td>\n      <td>v</td>\n      <td>2.00</td>\n      <td>f</td>\n      <td>t</td>\n      <td>2</td>\n      <td>t</td>\n      <td>g</td>\n      <td>00200</td>\n      <td>394</td>\n      <td>0</td>\n    </tr>\n    <tr>\n      <th>687</th>\n      <td>a</td>\n      <td>25.25</td>\n      <td>13.500</td>\n      <td>y</td>\n      <td>p</td>\n      <td>ff</td>\n      <td>ff</td>\n      <td>2.00</td>\n      <td>f</td>\n      <td>t</td>\n      <td>1</td>\n      <td>t</td>\n      <td>g</td>\n      <td>00200</td>\n      <td>1</td>\n      <td>0</td>\n    </tr>\n    <tr>\n      <th>688</th>\n      <td>b</td>\n      <td>17.92</td>\n      <td>0.205</td>\n      <td>u</td>\n      <td>g</td>\n      <td>aa</td>\n      <td>v</td>\n      <td>0.04</td>\n      <td>f</td>\n      <td>f</td>\n      <td>0</td>\n      <td>f</td>\n      <td>g</td>\n      <td>00280</td>\n      <td>750</td>\n      <td>0</td>\n    </tr>\n    <tr>\n      <th>689</th>\n      <td>b</td>\n      <td>35.00</td>\n      <td>3.375</td>\n      <td>u</td>\n      <td>g</td>\n      <td>c</td>\n      <td>h</td>\n      <td>8.29</td>\n      <td>f</td>\n      <td>f</td>\n      <td>0</td>\n      <td>t</td>\n      <td>g</td>\n      <td>00000</td>\n      <td>0</td>\n      <td>0</td>\n    </tr>\n  </tbody>\n</table>\n</div>"
     },
     "metadata": {},
     "execution_count": 72
    }
   ],
   "source": [
    "# data.head(20)\n",
    "data.tail()"
   ]
  },
  {
   "cell_type": "code",
   "execution_count": 73,
   "metadata": {},
   "outputs": [],
   "source": [
    "data.to_csv('creditApproval.csv', index = False)"
   ]
  },
  {
   "cell_type": "code",
   "execution_count": 74,
   "metadata": {},
   "outputs": [],
   "source": [
    "# find the categorical variables, dtypes == object\n",
    "cat_columns = [c for c in data.columns if data[c].dtypes == 'O']"
   ]
  },
  {
   "cell_type": "code",
   "execution_count": 75,
   "metadata": {},
   "outputs": [
    {
     "output_type": "execute_result",
     "data": {
      "text/plain": [
       "  A1 A4 A5  A6 A7 A9 A10 A12 A13    A14\n",
       "0  b  u  g   w  v  t   t   f   g  00202\n",
       "1  a  u  g   q  h  t   t   f   g  00043\n",
       "2  a  u  g   q  h  t   f   f   g  00280\n",
       "3  b  u  g   w  v  t   t   t   g  00100\n",
       "4  b  u  g   w  v  t   f   f   s  00120\n",
       "5  b  u  g   m  v  t   f   t   g  00360\n",
       "6  b  u  g   r  h  t   f   t   g  00164\n",
       "7  a  u  g  cc  v  t   f   f   g  00080\n",
       "8  b  y  p   k  h  t   f   f   g  00180\n",
       "9  b  y  p   w  v  t   f   t   g  00052"
      ],
      "text/html": "<div>\n<style scoped>\n    .dataframe tbody tr th:only-of-type {\n        vertical-align: middle;\n    }\n\n    .dataframe tbody tr th {\n        vertical-align: top;\n    }\n\n    .dataframe thead th {\n        text-align: right;\n    }\n</style>\n<table border=\"1\" class=\"dataframe\">\n  <thead>\n    <tr style=\"text-align: right;\">\n      <th></th>\n      <th>A1</th>\n      <th>A4</th>\n      <th>A5</th>\n      <th>A6</th>\n      <th>A7</th>\n      <th>A9</th>\n      <th>A10</th>\n      <th>A12</th>\n      <th>A13</th>\n      <th>A14</th>\n    </tr>\n  </thead>\n  <tbody>\n    <tr>\n      <th>0</th>\n      <td>b</td>\n      <td>u</td>\n      <td>g</td>\n      <td>w</td>\n      <td>v</td>\n      <td>t</td>\n      <td>t</td>\n      <td>f</td>\n      <td>g</td>\n      <td>00202</td>\n    </tr>\n    <tr>\n      <th>1</th>\n      <td>a</td>\n      <td>u</td>\n      <td>g</td>\n      <td>q</td>\n      <td>h</td>\n      <td>t</td>\n      <td>t</td>\n      <td>f</td>\n      <td>g</td>\n      <td>00043</td>\n    </tr>\n    <tr>\n      <th>2</th>\n      <td>a</td>\n      <td>u</td>\n      <td>g</td>\n      <td>q</td>\n      <td>h</td>\n      <td>t</td>\n      <td>f</td>\n      <td>f</td>\n      <td>g</td>\n      <td>00280</td>\n    </tr>\n    <tr>\n      <th>3</th>\n      <td>b</td>\n      <td>u</td>\n      <td>g</td>\n      <td>w</td>\n      <td>v</td>\n      <td>t</td>\n      <td>t</td>\n      <td>t</td>\n      <td>g</td>\n      <td>00100</td>\n    </tr>\n    <tr>\n      <th>4</th>\n      <td>b</td>\n      <td>u</td>\n      <td>g</td>\n      <td>w</td>\n      <td>v</td>\n      <td>t</td>\n      <td>f</td>\n      <td>f</td>\n      <td>s</td>\n      <td>00120</td>\n    </tr>\n    <tr>\n      <th>5</th>\n      <td>b</td>\n      <td>u</td>\n      <td>g</td>\n      <td>m</td>\n      <td>v</td>\n      <td>t</td>\n      <td>f</td>\n      <td>t</td>\n      <td>g</td>\n      <td>00360</td>\n    </tr>\n    <tr>\n      <th>6</th>\n      <td>b</td>\n      <td>u</td>\n      <td>g</td>\n      <td>r</td>\n      <td>h</td>\n      <td>t</td>\n      <td>f</td>\n      <td>t</td>\n      <td>g</td>\n      <td>00164</td>\n    </tr>\n    <tr>\n      <th>7</th>\n      <td>a</td>\n      <td>u</td>\n      <td>g</td>\n      <td>cc</td>\n      <td>v</td>\n      <td>t</td>\n      <td>f</td>\n      <td>f</td>\n      <td>g</td>\n      <td>00080</td>\n    </tr>\n    <tr>\n      <th>8</th>\n      <td>b</td>\n      <td>y</td>\n      <td>p</td>\n      <td>k</td>\n      <td>h</td>\n      <td>t</td>\n      <td>f</td>\n      <td>f</td>\n      <td>g</td>\n      <td>00180</td>\n    </tr>\n    <tr>\n      <th>9</th>\n      <td>b</td>\n      <td>y</td>\n      <td>p</td>\n      <td>w</td>\n      <td>v</td>\n      <td>t</td>\n      <td>f</td>\n      <td>t</td>\n      <td>g</td>\n      <td>00052</td>\n    </tr>\n  </tbody>\n</table>\n</div>"
     },
     "metadata": {},
     "execution_count": 75
    }
   ],
   "source": [
    "data[cat_columns].head(10)"
   ]
  },
  {
   "cell_type": "code",
   "execution_count": 77,
   "metadata": {},
   "outputs": [
    {
     "output_type": "execute_result",
     "data": {
      "text/plain": [
       "      A2      A3     A8  A11    A15  A16\n",
       "0  30.83   0.000  1.250    1      0    1\n",
       "1  58.67   4.460  3.040    6    560    1\n",
       "2  24.50   0.500  1.500    0    824    1\n",
       "3  27.83   1.540  3.750    5      3    1\n",
       "4  20.17   5.625  1.710    0      0    1\n",
       "5  32.08   4.000  2.500    0      0    1\n",
       "6  33.17   1.040  6.500    0  31285    1\n",
       "7  22.92  11.585  0.040    0   1349    1\n",
       "8  54.42   0.500  3.960    0    314    1\n",
       "9  42.50   4.915  3.165    0   1442    1"
      ],
      "text/html": "<div>\n<style scoped>\n    .dataframe tbody tr th:only-of-type {\n        vertical-align: middle;\n    }\n\n    .dataframe tbody tr th {\n        vertical-align: top;\n    }\n\n    .dataframe thead th {\n        text-align: right;\n    }\n</style>\n<table border=\"1\" class=\"dataframe\">\n  <thead>\n    <tr style=\"text-align: right;\">\n      <th></th>\n      <th>A2</th>\n      <th>A3</th>\n      <th>A8</th>\n      <th>A11</th>\n      <th>A15</th>\n      <th>A16</th>\n    </tr>\n  </thead>\n  <tbody>\n    <tr>\n      <th>0</th>\n      <td>30.83</td>\n      <td>0.000</td>\n      <td>1.250</td>\n      <td>1</td>\n      <td>0</td>\n      <td>1</td>\n    </tr>\n    <tr>\n      <th>1</th>\n      <td>58.67</td>\n      <td>4.460</td>\n      <td>3.040</td>\n      <td>6</td>\n      <td>560</td>\n      <td>1</td>\n    </tr>\n    <tr>\n      <th>2</th>\n      <td>24.50</td>\n      <td>0.500</td>\n      <td>1.500</td>\n      <td>0</td>\n      <td>824</td>\n      <td>1</td>\n    </tr>\n    <tr>\n      <th>3</th>\n      <td>27.83</td>\n      <td>1.540</td>\n      <td>3.750</td>\n      <td>5</td>\n      <td>3</td>\n      <td>1</td>\n    </tr>\n    <tr>\n      <th>4</th>\n      <td>20.17</td>\n      <td>5.625</td>\n      <td>1.710</td>\n      <td>0</td>\n      <td>0</td>\n      <td>1</td>\n    </tr>\n    <tr>\n      <th>5</th>\n      <td>32.08</td>\n      <td>4.000</td>\n      <td>2.500</td>\n      <td>0</td>\n      <td>0</td>\n      <td>1</td>\n    </tr>\n    <tr>\n      <th>6</th>\n      <td>33.17</td>\n      <td>1.040</td>\n      <td>6.500</td>\n      <td>0</td>\n      <td>31285</td>\n      <td>1</td>\n    </tr>\n    <tr>\n      <th>7</th>\n      <td>22.92</td>\n      <td>11.585</td>\n      <td>0.040</td>\n      <td>0</td>\n      <td>1349</td>\n      <td>1</td>\n    </tr>\n    <tr>\n      <th>8</th>\n      <td>54.42</td>\n      <td>0.500</td>\n      <td>3.960</td>\n      <td>0</td>\n      <td>314</td>\n      <td>1</td>\n    </tr>\n    <tr>\n      <th>9</th>\n      <td>42.50</td>\n      <td>4.915</td>\n      <td>3.165</td>\n      <td>0</td>\n      <td>1442</td>\n      <td>1</td>\n    </tr>\n  </tbody>\n</table>\n</div>"
     },
     "metadata": {},
     "execution_count": 77
    }
   ],
   "source": [
    "# find the not categorical variables, dtypes != object\n",
    "not_cat_columns = [c for c in data.columns if data[c].dtypes != 'O']\n",
    "data[not_cat_columns].head(10)\n"
   ]
  },
  {
   "source": [
    "<h2>Task 2 Variables</h2>"
   ],
   "cell_type": "markdown",
   "metadata": {}
  },
  {
   "cell_type": "code",
   "execution_count": 80,
   "metadata": {},
   "outputs": [],
   "source": [
    "# load loan dataset\n",
    "data = pd.read_csv('/Users/sahajadlakha/Documents/DEV_ZONE/MachineLearning/MLCSE4020/lab-2/data/loan.csv')"
   ]
  },
  {
   "cell_type": "code",
   "execution_count": 81,
   "metadata": {},
   "outputs": [
    {
     "output_type": "execute_result",
     "data": {
      "text/plain": [
       "(10000, 14)"
      ]
     },
     "metadata": {},
     "execution_count": 81
    }
   ],
   "source": [
    "data.shape"
   ]
  },
  {
   "cell_type": "code",
   "execution_count": 82,
   "metadata": {},
   "outputs": [
    {
     "output_type": "execute_result",
     "data": {
      "text/plain": [
       "   customer_id  disbursed_amount  interest market    employment time_employed  \\\n",
       "0            0           23201.5   15.4840      C       Teacher     <=5 years   \n",
       "1            1            7425.0   11.2032      B    Accountant     <=5 years   \n",
       "2            2           11150.0    8.5100      A  Statistician     <=5 years   \n",
       "3            3            7600.0    5.8656      A         Other     <=5 years   \n",
       "4            4           31960.0   18.7392      E    Bus driver      >5 years   \n",
       "\n",
       "  householder    income date_issued  target        loan_purpose  \\\n",
       "0        RENT   84600.0  2013-06-11       0  Debt consolidation   \n",
       "1       OWNER  102000.0  2014-05-08       0        Car purchase   \n",
       "2        RENT   69840.0  2013-10-26       0  Debt consolidation   \n",
       "3        RENT  100386.0  2015-08-20       0  Debt consolidation   \n",
       "4        RENT   95040.0  2014-07-22       0  Debt consolidation   \n",
       "\n",
       "   number_open_accounts date_last_payment  number_credit_lines_12  \n",
       "0                   4.0        2016-01-14                     NaN  \n",
       "1                  13.0        2016-01-25                     NaN  \n",
       "2                   8.0        2014-09-26                     NaN  \n",
       "3                  20.0        2016-01-26                     NaN  \n",
       "4                  14.0        2016-01-11                     NaN  "
      ],
      "text/html": "<div>\n<style scoped>\n    .dataframe tbody tr th:only-of-type {\n        vertical-align: middle;\n    }\n\n    .dataframe tbody tr th {\n        vertical-align: top;\n    }\n\n    .dataframe thead th {\n        text-align: right;\n    }\n</style>\n<table border=\"1\" class=\"dataframe\">\n  <thead>\n    <tr style=\"text-align: right;\">\n      <th></th>\n      <th>customer_id</th>\n      <th>disbursed_amount</th>\n      <th>interest</th>\n      <th>market</th>\n      <th>employment</th>\n      <th>time_employed</th>\n      <th>householder</th>\n      <th>income</th>\n      <th>date_issued</th>\n      <th>target</th>\n      <th>loan_purpose</th>\n      <th>number_open_accounts</th>\n      <th>date_last_payment</th>\n      <th>number_credit_lines_12</th>\n    </tr>\n  </thead>\n  <tbody>\n    <tr>\n      <th>0</th>\n      <td>0</td>\n      <td>23201.5</td>\n      <td>15.4840</td>\n      <td>C</td>\n      <td>Teacher</td>\n      <td>&lt;=5 years</td>\n      <td>RENT</td>\n      <td>84600.0</td>\n      <td>2013-06-11</td>\n      <td>0</td>\n      <td>Debt consolidation</td>\n      <td>4.0</td>\n      <td>2016-01-14</td>\n      <td>NaN</td>\n    </tr>\n    <tr>\n      <th>1</th>\n      <td>1</td>\n      <td>7425.0</td>\n      <td>11.2032</td>\n      <td>B</td>\n      <td>Accountant</td>\n      <td>&lt;=5 years</td>\n      <td>OWNER</td>\n      <td>102000.0</td>\n      <td>2014-05-08</td>\n      <td>0</td>\n      <td>Car purchase</td>\n      <td>13.0</td>\n      <td>2016-01-25</td>\n      <td>NaN</td>\n    </tr>\n    <tr>\n      <th>2</th>\n      <td>2</td>\n      <td>11150.0</td>\n      <td>8.5100</td>\n      <td>A</td>\n      <td>Statistician</td>\n      <td>&lt;=5 years</td>\n      <td>RENT</td>\n      <td>69840.0</td>\n      <td>2013-10-26</td>\n      <td>0</td>\n      <td>Debt consolidation</td>\n      <td>8.0</td>\n      <td>2014-09-26</td>\n      <td>NaN</td>\n    </tr>\n    <tr>\n      <th>3</th>\n      <td>3</td>\n      <td>7600.0</td>\n      <td>5.8656</td>\n      <td>A</td>\n      <td>Other</td>\n      <td>&lt;=5 years</td>\n      <td>RENT</td>\n      <td>100386.0</td>\n      <td>2015-08-20</td>\n      <td>0</td>\n      <td>Debt consolidation</td>\n      <td>20.0</td>\n      <td>2016-01-26</td>\n      <td>NaN</td>\n    </tr>\n    <tr>\n      <th>4</th>\n      <td>4</td>\n      <td>31960.0</td>\n      <td>18.7392</td>\n      <td>E</td>\n      <td>Bus driver</td>\n      <td>&gt;5 years</td>\n      <td>RENT</td>\n      <td>95040.0</td>\n      <td>2014-07-22</td>\n      <td>0</td>\n      <td>Debt consolidation</td>\n      <td>14.0</td>\n      <td>2016-01-11</td>\n      <td>NaN</td>\n    </tr>\n  </tbody>\n</table>\n</div>"
     },
     "metadata": {},
     "execution_count": 82
    }
   ],
   "source": [
    "data.head()"
   ]
  },
  {
   "source": [
    "# Variables -> Numerical and Categorical\n",
    "# Numerical: \n",
    "    # discrete - 1,2,3\n",
    "    # continuous - 1.5,111.50\n",
    "# Categorical\n",
    "    # Nominal - Names\n",
    "    # Ordinal - Sunday to Saturday [1,2,..7], True or False [0,1]\n",
    "    "
   ],
   "cell_type": "markdown",
   "metadata": {}
  },
  {
   "cell_type": "code",
   "execution_count": 84,
   "metadata": {},
   "outputs": [
    {
     "output_type": "execute_result",
     "data": {
      "text/plain": [
       "array([23201.5 ,  7425.  , 11150.  , ...,  6279.  , 12894.75, 25584.  ])"
      ]
     },
     "metadata": {},
     "execution_count": 84
    }
   ],
   "source": [
    "data['disbursed_amount'].unique()"
   ]
  },
  {
   "cell_type": "code",
   "execution_count": 85,
   "metadata": {},
   "outputs": [
    {
     "output_type": "execute_result",
     "data": {
      "text/plain": [
       "array([15.484 , 11.2032,  8.51  , ..., 12.9195, 11.2332, 11.0019])"
      ]
     },
     "metadata": {},
     "execution_count": 85
    }
   ],
   "source": [
    "data['interest'].unique()\n"
   ]
  },
  {
   "source": [
    "Print categorical variables"
   ],
   "cell_type": "markdown",
   "metadata": {}
  },
  {
   "cell_type": "code",
   "execution_count": 86,
   "metadata": {},
   "outputs": [
    {
     "output_type": "execute_result",
     "data": {
      "text/plain": [
       "array(['RENT', 'OWNER', 'MORTGAGE'], dtype=object)"
      ]
     },
     "metadata": {},
     "execution_count": 86
    }
   ],
   "source": [
    "data['householder'].unique()"
   ]
  },
  {
   "cell_type": "code",
   "execution_count": 87,
   "metadata": {},
   "outputs": [
    {
     "output_type": "execute_result",
     "data": {
      "text/plain": [
       "MORTGAGE    4957\n",
       "RENT        4055\n",
       "OWNER        988\n",
       "Name: householder, dtype: int64"
      ]
     },
     "metadata": {},
     "execution_count": 87
    }
   ],
   "source": [
    "data['householder'].value_counts()"
   ]
  },
  {
   "cell_type": "code",
   "execution_count": 90,
   "metadata": {},
   "outputs": [
    {
     "output_type": "execute_result",
     "data": {
      "text/plain": [
       "     market     employment time_employed householder date_issued  \\\n",
       "0         C        Teacher     <=5 years        RENT  2013-06-11   \n",
       "1         B     Accountant     <=5 years       OWNER  2014-05-08   \n",
       "2         A   Statistician     <=5 years        RENT  2013-10-26   \n",
       "3         A          Other     <=5 years        RENT  2015-08-20   \n",
       "4         E     Bus driver      >5 years        RENT  2014-07-22   \n",
       "...     ...            ...           ...         ...         ...   \n",
       "9995      B  Civil Servant     <=5 years    MORTGAGE  2010-01-14   \n",
       "9996      B  Civil Servant     <=5 years        RENT  2015-03-20   \n",
       "9997      B     Accountant      >5 years       OWNER  2015-04-03   \n",
       "9998      C     Bus driver      >5 years        RENT  2014-11-23   \n",
       "9999      D     Accountant      >5 years    MORTGAGE  2015-01-19   \n",
       "\n",
       "            loan_purpose date_last_payment  \n",
       "0     Debt consolidation        2016-01-14  \n",
       "1           Car purchase        2016-01-25  \n",
       "2     Debt consolidation        2014-09-26  \n",
       "3     Debt consolidation        2016-01-26  \n",
       "4     Debt consolidation        2016-01-11  \n",
       "...                  ...               ...  \n",
       "9995               Other        2010-11-03  \n",
       "9996  Debt consolidation        2016-01-26  \n",
       "9997  Debt consolidation        2015-12-12  \n",
       "9998  Debt consolidation        2016-01-01  \n",
       "9999  Debt consolidation        2016-01-16  \n",
       "\n",
       "[10000 rows x 7 columns]"
      ],
      "text/html": "<div>\n<style scoped>\n    .dataframe tbody tr th:only-of-type {\n        vertical-align: middle;\n    }\n\n    .dataframe tbody tr th {\n        vertical-align: top;\n    }\n\n    .dataframe thead th {\n        text-align: right;\n    }\n</style>\n<table border=\"1\" class=\"dataframe\">\n  <thead>\n    <tr style=\"text-align: right;\">\n      <th></th>\n      <th>market</th>\n      <th>employment</th>\n      <th>time_employed</th>\n      <th>householder</th>\n      <th>date_issued</th>\n      <th>loan_purpose</th>\n      <th>date_last_payment</th>\n    </tr>\n  </thead>\n  <tbody>\n    <tr>\n      <th>0</th>\n      <td>C</td>\n      <td>Teacher</td>\n      <td>&lt;=5 years</td>\n      <td>RENT</td>\n      <td>2013-06-11</td>\n      <td>Debt consolidation</td>\n      <td>2016-01-14</td>\n    </tr>\n    <tr>\n      <th>1</th>\n      <td>B</td>\n      <td>Accountant</td>\n      <td>&lt;=5 years</td>\n      <td>OWNER</td>\n      <td>2014-05-08</td>\n      <td>Car purchase</td>\n      <td>2016-01-25</td>\n    </tr>\n    <tr>\n      <th>2</th>\n      <td>A</td>\n      <td>Statistician</td>\n      <td>&lt;=5 years</td>\n      <td>RENT</td>\n      <td>2013-10-26</td>\n      <td>Debt consolidation</td>\n      <td>2014-09-26</td>\n    </tr>\n    <tr>\n      <th>3</th>\n      <td>A</td>\n      <td>Other</td>\n      <td>&lt;=5 years</td>\n      <td>RENT</td>\n      <td>2015-08-20</td>\n      <td>Debt consolidation</td>\n      <td>2016-01-26</td>\n    </tr>\n    <tr>\n      <th>4</th>\n      <td>E</td>\n      <td>Bus driver</td>\n      <td>&gt;5 years</td>\n      <td>RENT</td>\n      <td>2014-07-22</td>\n      <td>Debt consolidation</td>\n      <td>2016-01-11</td>\n    </tr>\n    <tr>\n      <th>...</th>\n      <td>...</td>\n      <td>...</td>\n      <td>...</td>\n      <td>...</td>\n      <td>...</td>\n      <td>...</td>\n      <td>...</td>\n    </tr>\n    <tr>\n      <th>9995</th>\n      <td>B</td>\n      <td>Civil Servant</td>\n      <td>&lt;=5 years</td>\n      <td>MORTGAGE</td>\n      <td>2010-01-14</td>\n      <td>Other</td>\n      <td>2010-11-03</td>\n    </tr>\n    <tr>\n      <th>9996</th>\n      <td>B</td>\n      <td>Civil Servant</td>\n      <td>&lt;=5 years</td>\n      <td>RENT</td>\n      <td>2015-03-20</td>\n      <td>Debt consolidation</td>\n      <td>2016-01-26</td>\n    </tr>\n    <tr>\n      <th>9997</th>\n      <td>B</td>\n      <td>Accountant</td>\n      <td>&gt;5 years</td>\n      <td>OWNER</td>\n      <td>2015-04-03</td>\n      <td>Debt consolidation</td>\n      <td>2015-12-12</td>\n    </tr>\n    <tr>\n      <th>9998</th>\n      <td>C</td>\n      <td>Bus driver</td>\n      <td>&gt;5 years</td>\n      <td>RENT</td>\n      <td>2014-11-23</td>\n      <td>Debt consolidation</td>\n      <td>2016-01-01</td>\n    </tr>\n    <tr>\n      <th>9999</th>\n      <td>D</td>\n      <td>Accountant</td>\n      <td>&gt;5 years</td>\n      <td>MORTGAGE</td>\n      <td>2015-01-19</td>\n      <td>Debt consolidation</td>\n      <td>2016-01-16</td>\n    </tr>\n  </tbody>\n</table>\n<p>10000 rows × 7 columns</p>\n</div>"
     },
     "metadata": {},
     "execution_count": 90
    }
   ],
   "source": [
    "cat_columns = [c for c in data.columns if data[c].dtypes == 'O']\n",
    "data[cat_columns]"
   ]
  },
  {
   "source": [
    "# Print Dates"
   ],
   "cell_type": "markdown",
   "metadata": {}
  },
  {
   "cell_type": "code",
   "execution_count": 92,
   "metadata": {},
   "outputs": [
    {
     "output_type": "execute_result",
     "data": {
      "text/plain": [
       "dtype('O')"
      ]
     },
     "metadata": {},
     "execution_count": 92
    }
   ],
   "source": [
    "data['date_issued'].dtypes"
   ]
  },
  {
   "cell_type": "code",
   "execution_count": 94,
   "metadata": {},
   "outputs": [],
   "source": [
    "data['date_issued_dt'] = pd.to_datetime(data['date_issued'])"
   ]
  },
  {
   "cell_type": "code",
   "execution_count": 100,
   "metadata": {},
   "outputs": [
    {
     "output_type": "execute_result",
     "data": {
      "text/plain": [
       "(10000, 17)"
      ]
     },
     "metadata": {},
     "execution_count": 100
    }
   ],
   "source": [
    "data.shape"
   ]
  },
  {
   "source": [
    "## Extracting Date ,  months, years from the converted date"
   ],
   "cell_type": "markdown",
   "metadata": {}
  },
  {
   "cell_type": "code",
   "execution_count": 97,
   "metadata": {},
   "outputs": [],
   "source": [
    "data['month'] = data['date_issued_dt'].dt.month"
   ]
  },
  {
   "cell_type": "code",
   "execution_count": 98,
   "metadata": {},
   "outputs": [],
   "source": [
    "data['year'] = data['date_issued_dt'].dt.year"
   ]
  },
  {
   "cell_type": "code",
   "execution_count": 99,
   "metadata": {},
   "outputs": [
    {
     "output_type": "stream",
     "name": "stdout",
     "text": [
      "      customer_id  disbursed_amount  interest market     employment  \\\n0               0           23201.5   15.4840      C        Teacher   \n1               1            7425.0   11.2032      B     Accountant   \n2               2           11150.0    8.5100      A   Statistician   \n3               3            7600.0    5.8656      A          Other   \n4               4           31960.0   18.7392      E     Bus driver   \n...           ...               ...       ...    ...            ...   \n9995         9995           23750.0   11.0019      B  Civil Servant   \n9996         9996           11880.0   10.4923      B  Civil Servant   \n9997         9997           19950.0    8.4364      B     Accountant   \n9998         9998            4850.0   13.6409      C     Bus driver   \n9999         9999           25584.0   17.1456      D     Accountant   \n\n     time_employed householder    income date_issued  target  \\\n0        <=5 years        RENT   84600.0  2013-06-11       0   \n1        <=5 years       OWNER  102000.0  2014-05-08       0   \n2        <=5 years        RENT   69840.0  2013-10-26       0   \n3        <=5 years        RENT  100386.0  2015-08-20       0   \n4         >5 years        RENT   95040.0  2014-07-22       0   \n...            ...         ...       ...         ...     ...   \n9995     <=5 years    MORTGAGE   98000.0  2010-01-14       0   \n9996     <=5 years        RENT   36270.0  2015-03-20       0   \n9997      >5 years       OWNER   52250.0  2015-04-03       0   \n9998      >5 years        RENT   80040.0  2014-11-23       0   \n9999      >5 years    MORTGAGE   72000.0  2015-01-19       0   \n\n            loan_purpose  number_open_accounts date_last_payment  \\\n0     Debt consolidation                   4.0        2016-01-14   \n1           Car purchase                  13.0        2016-01-25   \n2     Debt consolidation                   8.0        2014-09-26   \n3     Debt consolidation                  20.0        2016-01-26   \n4     Debt consolidation                  14.0        2016-01-11   \n...                  ...                   ...               ...   \n9995               Other                  12.0        2010-11-03   \n9996  Debt consolidation                  17.0        2016-01-26   \n9997  Debt consolidation                   9.0        2015-12-12   \n9998  Debt consolidation                  26.0        2016-01-01   \n9999  Debt consolidation                   5.0        2016-01-16   \n\n      number_credit_lines_12 date_issued_dt  month  year  \n0                        NaN     2013-06-11      6  2013  \n1                        NaN     2014-05-08      5  2014  \n2                        NaN     2013-10-26     10  2013  \n3                        NaN     2015-08-20      8  2015  \n4                        NaN     2014-07-22      7  2014  \n...                      ...            ...    ...   ...  \n9995                     NaN     2010-01-14      1  2010  \n9996                     NaN     2015-03-20      3  2015  \n9997                     NaN     2015-04-03      4  2015  \n9998                     NaN     2014-11-23     11  2014  \n9999                     NaN     2015-01-19      1  2015  \n\n[10000 rows x 17 columns]\n"
     ]
    }
   ],
   "source": [
    "print(data)"
   ]
  },
  {
   "cell_type": "code",
   "execution_count": null,
   "metadata": {},
   "outputs": [],
   "source": []
  }
 ]
}