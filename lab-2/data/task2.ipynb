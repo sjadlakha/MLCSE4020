{
 "metadata": {
  "language_info": {
   "codemirror_mode": {
    "name": "ipython",
    "version": 3
   },
   "file_extension": ".py",
   "mimetype": "text/x-python",
   "name": "python",
   "nbconvert_exporter": "python",
   "pygments_lexer": "ipython3",
   "version": "3.9.1-final"
  },
  "orig_nbformat": 2,
  "kernelspec": {
   "name": "python3",
   "display_name": "Python 3.9.1 64-bit",
   "metadata": {
    "interpreter": {
     "hash": "aee8b7b246df8f9039afb4144a1f6fd8d2ca17a180786b69acc140d282b71a49"
    }
   }
  }
 },
 "nbformat": 4,
 "nbformat_minor": 2,
 "cells": [
  {
   "source": [
    "# Machine Learning CSE4020 L9+L10\n",
    "## Proff. Sharmila Banu K.\n",
    "### Sahaj Adlakha (18BCE0054)\n",
    "Theory Slot - F2\n",
    "\n",
    "### LAB TASK 2"
   ],
   "cell_type": "markdown",
   "metadata": {}
  },
  {
   "source": [
    "## Set 1"
   ],
   "cell_type": "markdown",
   "metadata": {}
  },
  {
   "cell_type": "code",
   "execution_count": 9,
   "metadata": {},
   "outputs": [],
   "source": [
    "import pandas as pd\n",
    "import numpy as np"
   ]
  },
  {
   "cell_type": "code",
   "execution_count": 2,
   "metadata": {},
   "outputs": [],
   "source": [
    "# Load Dataset\n",
    "data = pd.read_csv('./crx.data', header = None)"
   ]
  },
  {
   "cell_type": "code",
   "execution_count": 4,
   "metadata": {},
   "outputs": [
    {
     "output_type": "execute_result",
     "data": {
      "text/plain": [
       "  0      1      2  3  4  5  6     7  8  9   10 11 12     13   14 15\n",
       "0  b  30.83  0.000  u  g  w  v  1.25  t  t   1  f  g  00202    0  +\n",
       "1  a  58.67  4.460  u  g  q  h  3.04  t  t   6  f  g  00043  560  +\n",
       "2  a  24.50  0.500  u  g  q  h  1.50  t  f   0  f  g  00280  824  +\n",
       "3  b  27.83  1.540  u  g  w  v  3.75  t  t   5  t  g  00100    3  +\n",
       "4  b  20.17  5.625  u  g  w  v  1.71  t  f   0  f  s  00120    0  +"
      ],
      "text/html": "<div>\n<style scoped>\n    .dataframe tbody tr th:only-of-type {\n        vertical-align: middle;\n    }\n\n    .dataframe tbody tr th {\n        vertical-align: top;\n    }\n\n    .dataframe thead th {\n        text-align: right;\n    }\n</style>\n<table border=\"1\" class=\"dataframe\">\n  <thead>\n    <tr style=\"text-align: right;\">\n      <th></th>\n      <th>0</th>\n      <th>1</th>\n      <th>2</th>\n      <th>3</th>\n      <th>4</th>\n      <th>5</th>\n      <th>6</th>\n      <th>7</th>\n      <th>8</th>\n      <th>9</th>\n      <th>10</th>\n      <th>11</th>\n      <th>12</th>\n      <th>13</th>\n      <th>14</th>\n      <th>15</th>\n    </tr>\n  </thead>\n  <tbody>\n    <tr>\n      <th>0</th>\n      <td>b</td>\n      <td>30.83</td>\n      <td>0.000</td>\n      <td>u</td>\n      <td>g</td>\n      <td>w</td>\n      <td>v</td>\n      <td>1.25</td>\n      <td>t</td>\n      <td>t</td>\n      <td>1</td>\n      <td>f</td>\n      <td>g</td>\n      <td>00202</td>\n      <td>0</td>\n      <td>+</td>\n    </tr>\n    <tr>\n      <th>1</th>\n      <td>a</td>\n      <td>58.67</td>\n      <td>4.460</td>\n      <td>u</td>\n      <td>g</td>\n      <td>q</td>\n      <td>h</td>\n      <td>3.04</td>\n      <td>t</td>\n      <td>t</td>\n      <td>6</td>\n      <td>f</td>\n      <td>g</td>\n      <td>00043</td>\n      <td>560</td>\n      <td>+</td>\n    </tr>\n    <tr>\n      <th>2</th>\n      <td>a</td>\n      <td>24.50</td>\n      <td>0.500</td>\n      <td>u</td>\n      <td>g</td>\n      <td>q</td>\n      <td>h</td>\n      <td>1.50</td>\n      <td>t</td>\n      <td>f</td>\n      <td>0</td>\n      <td>f</td>\n      <td>g</td>\n      <td>00280</td>\n      <td>824</td>\n      <td>+</td>\n    </tr>\n    <tr>\n      <th>3</th>\n      <td>b</td>\n      <td>27.83</td>\n      <td>1.540</td>\n      <td>u</td>\n      <td>g</td>\n      <td>w</td>\n      <td>v</td>\n      <td>3.75</td>\n      <td>t</td>\n      <td>t</td>\n      <td>5</td>\n      <td>t</td>\n      <td>g</td>\n      <td>00100</td>\n      <td>3</td>\n      <td>+</td>\n    </tr>\n    <tr>\n      <th>4</th>\n      <td>b</td>\n      <td>20.17</td>\n      <td>5.625</td>\n      <td>u</td>\n      <td>g</td>\n      <td>w</td>\n      <td>v</td>\n      <td>1.71</td>\n      <td>t</td>\n      <td>f</td>\n      <td>0</td>\n      <td>f</td>\n      <td>s</td>\n      <td>00120</td>\n      <td>0</td>\n      <td>+</td>\n    </tr>\n  </tbody>\n</table>\n</div>"
     },
     "metadata": {},
     "execution_count": 4
    }
   ],
   "source": [
    "data.head()"
   ]
  },
  {
   "source": [
    "### 1. In the dataset crx.data, name the columns as col1, col2..col16"
   ],
   "cell_type": "markdown",
   "metadata": {}
  },
  {
   "cell_type": "code",
   "execution_count": 6,
   "metadata": {},
   "outputs": [],
   "source": [
    "colNames = ['col'+str(i) for i in range(1,17)]\n",
    "data.columns = colNames\n"
   ]
  },
  {
   "cell_type": "code",
   "execution_count": 7,
   "metadata": {},
   "outputs": [
    {
     "output_type": "execute_result",
     "data": {
      "text/plain": [
       "  col1   col2   col3 col4 col5 col6 col7  col8 col9 col10  col11 col12 col13  \\\n",
       "0    b  30.83  0.000    u    g    w    v  1.25    t     t      1     f     g   \n",
       "1    a  58.67  4.460    u    g    q    h  3.04    t     t      6     f     g   \n",
       "2    a  24.50  0.500    u    g    q    h  1.50    t     f      0     f     g   \n",
       "3    b  27.83  1.540    u    g    w    v  3.75    t     t      5     t     g   \n",
       "4    b  20.17  5.625    u    g    w    v  1.71    t     f      0     f     s   \n",
       "\n",
       "   col14  col15 col16  \n",
       "0  00202      0     +  \n",
       "1  00043    560     +  \n",
       "2  00280    824     +  \n",
       "3  00100      3     +  \n",
       "4  00120      0     +  "
      ],
      "text/html": "<div>\n<style scoped>\n    .dataframe tbody tr th:only-of-type {\n        vertical-align: middle;\n    }\n\n    .dataframe tbody tr th {\n        vertical-align: top;\n    }\n\n    .dataframe thead th {\n        text-align: right;\n    }\n</style>\n<table border=\"1\" class=\"dataframe\">\n  <thead>\n    <tr style=\"text-align: right;\">\n      <th></th>\n      <th>col1</th>\n      <th>col2</th>\n      <th>col3</th>\n      <th>col4</th>\n      <th>col5</th>\n      <th>col6</th>\n      <th>col7</th>\n      <th>col8</th>\n      <th>col9</th>\n      <th>col10</th>\n      <th>col11</th>\n      <th>col12</th>\n      <th>col13</th>\n      <th>col14</th>\n      <th>col15</th>\n      <th>col16</th>\n    </tr>\n  </thead>\n  <tbody>\n    <tr>\n      <th>0</th>\n      <td>b</td>\n      <td>30.83</td>\n      <td>0.000</td>\n      <td>u</td>\n      <td>g</td>\n      <td>w</td>\n      <td>v</td>\n      <td>1.25</td>\n      <td>t</td>\n      <td>t</td>\n      <td>1</td>\n      <td>f</td>\n      <td>g</td>\n      <td>00202</td>\n      <td>0</td>\n      <td>+</td>\n    </tr>\n    <tr>\n      <th>1</th>\n      <td>a</td>\n      <td>58.67</td>\n      <td>4.460</td>\n      <td>u</td>\n      <td>g</td>\n      <td>q</td>\n      <td>h</td>\n      <td>3.04</td>\n      <td>t</td>\n      <td>t</td>\n      <td>6</td>\n      <td>f</td>\n      <td>g</td>\n      <td>00043</td>\n      <td>560</td>\n      <td>+</td>\n    </tr>\n    <tr>\n      <th>2</th>\n      <td>a</td>\n      <td>24.50</td>\n      <td>0.500</td>\n      <td>u</td>\n      <td>g</td>\n      <td>q</td>\n      <td>h</td>\n      <td>1.50</td>\n      <td>t</td>\n      <td>f</td>\n      <td>0</td>\n      <td>f</td>\n      <td>g</td>\n      <td>00280</td>\n      <td>824</td>\n      <td>+</td>\n    </tr>\n    <tr>\n      <th>3</th>\n      <td>b</td>\n      <td>27.83</td>\n      <td>1.540</td>\n      <td>u</td>\n      <td>g</td>\n      <td>w</td>\n      <td>v</td>\n      <td>3.75</td>\n      <td>t</td>\n      <td>t</td>\n      <td>5</td>\n      <td>t</td>\n      <td>g</td>\n      <td>00100</td>\n      <td>3</td>\n      <td>+</td>\n    </tr>\n    <tr>\n      <th>4</th>\n      <td>b</td>\n      <td>20.17</td>\n      <td>5.625</td>\n      <td>u</td>\n      <td>g</td>\n      <td>w</td>\n      <td>v</td>\n      <td>1.71</td>\n      <td>t</td>\n      <td>f</td>\n      <td>0</td>\n      <td>f</td>\n      <td>s</td>\n      <td>00120</td>\n      <td>0</td>\n      <td>+</td>\n    </tr>\n  </tbody>\n</table>\n</div>"
     },
     "metadata": {},
     "execution_count": 7
    }
   ],
   "source": [
    "data.head()"
   ]
  },
  {
   "source": [
    "### 2. Print the last 10 rows of data"
   ],
   "cell_type": "markdown",
   "metadata": {}
  },
  {
   "cell_type": "code",
   "execution_count": 8,
   "metadata": {},
   "outputs": [
    {
     "output_type": "execute_result",
     "data": {
      "text/plain": [
       "    col1   col2    col3 col4 col5 col6 col7   col8 col9 col10  col11 col12  \\\n",
       "680    b  19.50   0.290    u    g    k    v  0.290    f     f      0     f   \n",
       "681    b  27.83   1.000    y    p    d    h  3.000    f     f      0     f   \n",
       "682    b  17.08   3.290    u    g    i    v  0.335    f     f      0     t   \n",
       "683    b  36.42   0.750    y    p    d    v  0.585    f     f      0     f   \n",
       "684    b  40.58   3.290    u    g    m    v  3.500    f     f      0     t   \n",
       "685    b  21.08  10.085    y    p    e    h  1.250    f     f      0     f   \n",
       "686    a  22.67   0.750    u    g    c    v  2.000    f     t      2     t   \n",
       "687    a  25.25  13.500    y    p   ff   ff  2.000    f     t      1     t   \n",
       "688    b  17.92   0.205    u    g   aa    v  0.040    f     f      0     f   \n",
       "689    b  35.00   3.375    u    g    c    h  8.290    f     f      0     t   \n",
       "\n",
       "    col13  col14  col15 col16  \n",
       "680     g  00280    364     -  \n",
       "681     g  00176    537     -  \n",
       "682     g  00140      2     -  \n",
       "683     g  00240      3     -  \n",
       "684     s  00400      0     -  \n",
       "685     g  00260      0     -  \n",
       "686     g  00200    394     -  \n",
       "687     g  00200      1     -  \n",
       "688     g  00280    750     -  \n",
       "689     g  00000      0     -  "
      ],
      "text/html": "<div>\n<style scoped>\n    .dataframe tbody tr th:only-of-type {\n        vertical-align: middle;\n    }\n\n    .dataframe tbody tr th {\n        vertical-align: top;\n    }\n\n    .dataframe thead th {\n        text-align: right;\n    }\n</style>\n<table border=\"1\" class=\"dataframe\">\n  <thead>\n    <tr style=\"text-align: right;\">\n      <th></th>\n      <th>col1</th>\n      <th>col2</th>\n      <th>col3</th>\n      <th>col4</th>\n      <th>col5</th>\n      <th>col6</th>\n      <th>col7</th>\n      <th>col8</th>\n      <th>col9</th>\n      <th>col10</th>\n      <th>col11</th>\n      <th>col12</th>\n      <th>col13</th>\n      <th>col14</th>\n      <th>col15</th>\n      <th>col16</th>\n    </tr>\n  </thead>\n  <tbody>\n    <tr>\n      <th>680</th>\n      <td>b</td>\n      <td>19.50</td>\n      <td>0.290</td>\n      <td>u</td>\n      <td>g</td>\n      <td>k</td>\n      <td>v</td>\n      <td>0.290</td>\n      <td>f</td>\n      <td>f</td>\n      <td>0</td>\n      <td>f</td>\n      <td>g</td>\n      <td>00280</td>\n      <td>364</td>\n      <td>-</td>\n    </tr>\n    <tr>\n      <th>681</th>\n      <td>b</td>\n      <td>27.83</td>\n      <td>1.000</td>\n      <td>y</td>\n      <td>p</td>\n      <td>d</td>\n      <td>h</td>\n      <td>3.000</td>\n      <td>f</td>\n      <td>f</td>\n      <td>0</td>\n      <td>f</td>\n      <td>g</td>\n      <td>00176</td>\n      <td>537</td>\n      <td>-</td>\n    </tr>\n    <tr>\n      <th>682</th>\n      <td>b</td>\n      <td>17.08</td>\n      <td>3.290</td>\n      <td>u</td>\n      <td>g</td>\n      <td>i</td>\n      <td>v</td>\n      <td>0.335</td>\n      <td>f</td>\n      <td>f</td>\n      <td>0</td>\n      <td>t</td>\n      <td>g</td>\n      <td>00140</td>\n      <td>2</td>\n      <td>-</td>\n    </tr>\n    <tr>\n      <th>683</th>\n      <td>b</td>\n      <td>36.42</td>\n      <td>0.750</td>\n      <td>y</td>\n      <td>p</td>\n      <td>d</td>\n      <td>v</td>\n      <td>0.585</td>\n      <td>f</td>\n      <td>f</td>\n      <td>0</td>\n      <td>f</td>\n      <td>g</td>\n      <td>00240</td>\n      <td>3</td>\n      <td>-</td>\n    </tr>\n    <tr>\n      <th>684</th>\n      <td>b</td>\n      <td>40.58</td>\n      <td>3.290</td>\n      <td>u</td>\n      <td>g</td>\n      <td>m</td>\n      <td>v</td>\n      <td>3.500</td>\n      <td>f</td>\n      <td>f</td>\n      <td>0</td>\n      <td>t</td>\n      <td>s</td>\n      <td>00400</td>\n      <td>0</td>\n      <td>-</td>\n    </tr>\n    <tr>\n      <th>685</th>\n      <td>b</td>\n      <td>21.08</td>\n      <td>10.085</td>\n      <td>y</td>\n      <td>p</td>\n      <td>e</td>\n      <td>h</td>\n      <td>1.250</td>\n      <td>f</td>\n      <td>f</td>\n      <td>0</td>\n      <td>f</td>\n      <td>g</td>\n      <td>00260</td>\n      <td>0</td>\n      <td>-</td>\n    </tr>\n    <tr>\n      <th>686</th>\n      <td>a</td>\n      <td>22.67</td>\n      <td>0.750</td>\n      <td>u</td>\n      <td>g</td>\n      <td>c</td>\n      <td>v</td>\n      <td>2.000</td>\n      <td>f</td>\n      <td>t</td>\n      <td>2</td>\n      <td>t</td>\n      <td>g</td>\n      <td>00200</td>\n      <td>394</td>\n      <td>-</td>\n    </tr>\n    <tr>\n      <th>687</th>\n      <td>a</td>\n      <td>25.25</td>\n      <td>13.500</td>\n      <td>y</td>\n      <td>p</td>\n      <td>ff</td>\n      <td>ff</td>\n      <td>2.000</td>\n      <td>f</td>\n      <td>t</td>\n      <td>1</td>\n      <td>t</td>\n      <td>g</td>\n      <td>00200</td>\n      <td>1</td>\n      <td>-</td>\n    </tr>\n    <tr>\n      <th>688</th>\n      <td>b</td>\n      <td>17.92</td>\n      <td>0.205</td>\n      <td>u</td>\n      <td>g</td>\n      <td>aa</td>\n      <td>v</td>\n      <td>0.040</td>\n      <td>f</td>\n      <td>f</td>\n      <td>0</td>\n      <td>f</td>\n      <td>g</td>\n      <td>00280</td>\n      <td>750</td>\n      <td>-</td>\n    </tr>\n    <tr>\n      <th>689</th>\n      <td>b</td>\n      <td>35.00</td>\n      <td>3.375</td>\n      <td>u</td>\n      <td>g</td>\n      <td>c</td>\n      <td>h</td>\n      <td>8.290</td>\n      <td>f</td>\n      <td>f</td>\n      <td>0</td>\n      <td>t</td>\n      <td>g</td>\n      <td>00000</td>\n      <td>0</td>\n      <td>-</td>\n    </tr>\n  </tbody>\n</table>\n</div>"
     },
     "metadata": {},
     "execution_count": 8
    }
   ],
   "source": [
    "data.tail(10)"
   ]
  },
  {
   "source": [
    "### 3. Replace the ‘?’ with Not-a-Number"
   ],
   "cell_type": "markdown",
   "metadata": {}
  },
  {
   "cell_type": "code",
   "execution_count": 16,
   "metadata": {},
   "outputs": [],
   "source": [
    "data = data.replace('?', np.nan)"
   ]
  },
  {
   "source": [
    "### 4. Comment on the datatype of variables"
   ],
   "cell_type": "markdown",
   "metadata": {}
  },
  {
   "cell_type": "code",
   "execution_count": 26,
   "metadata": {},
   "outputs": [
    {
     "output_type": "stream",
     "name": "stdout",
     "text": [
      "Column col 1  is of data type:  object\nColumn col 2  is of data type:  object\nColumn col 3  is of data type:  float64\nColumn col 4  is of data type:  object\nColumn col 5  is of data type:  object\nColumn col 6  is of data type:  object\nColumn col 7  is of data type:  object\nColumn col 8  is of data type:  float64\nColumn col 9  is of data type:  object\nColumn col 10  is of data type:  object\nColumn col 11  is of data type:  int64\nColumn col 12  is of data type:  object\nColumn col 13  is of data type:  object\nColumn col 14  is of data type:  object\nColumn col 15  is of data type:  int64\nColumn col 16  is of data type:  object\n"
     ]
    }
   ],
   "source": [
    "i=1\n",
    "for ser in data.dtypes:\n",
    "    print(\"Column col\",i,' is of data type: ', ser )\n",
    "    i+=1"
   ]
  },
  {
   "cell_type": "code",
   "execution_count": 29,
   "metadata": {},
   "outputs": [
    {
     "output_type": "stream",
     "name": "stdout",
     "text": [
      "<class 'pandas.core.frame.DataFrame'>\nRangeIndex: 690 entries, 0 to 689\nData columns (total 16 columns):\n #   Column  Non-Null Count  Dtype  \n---  ------  --------------  -----  \n 0   col1    678 non-null    object \n 1   col2    678 non-null    object \n 2   col3    690 non-null    float64\n 3   col4    684 non-null    object \n 4   col5    684 non-null    object \n 5   col6    681 non-null    object \n 6   col7    681 non-null    object \n 7   col8    690 non-null    float64\n 8   col9    690 non-null    object \n 9   col10   690 non-null    object \n 10  col11   690 non-null    int64  \n 11  col12   690 non-null    object \n 12  col13   690 non-null    object \n 13  col14   677 non-null    object \n 14  col15   690 non-null    int64  \n 15  col16   690 non-null    object \ndtypes: float64(2), int64(2), object(12)\nmemory usage: 86.4+ KB\n"
     ]
    }
   ],
   "source": [
    "# more info about the columns\n",
    "data.info()"
   ]
  },
  {
   "source": [
    "### 5. The col16 has + and -, replace them ‘P’ and ‘N’ respectively"
   ],
   "cell_type": "markdown",
   "metadata": {}
  },
  {
   "cell_type": "code",
   "execution_count": 27,
   "metadata": {},
   "outputs": [],
   "source": [
    "data['col16'] = data['col16'].map({'+':'P', '-':'M'})"
   ]
  },
  {
   "cell_type": "code",
   "execution_count": 28,
   "metadata": {},
   "outputs": [
    {
     "output_type": "execute_result",
     "data": {
      "text/plain": [
       "  col1   col2   col3 col4 col5 col6 col7  col8 col9 col10  col11 col12 col13  \\\n",
       "0    b  30.83  0.000    u    g    w    v  1.25    t     t      1     f     g   \n",
       "1    a  58.67  4.460    u    g    q    h  3.04    t     t      6     f     g   \n",
       "2    a  24.50  0.500    u    g    q    h  1.50    t     f      0     f     g   \n",
       "3    b  27.83  1.540    u    g    w    v  3.75    t     t      5     t     g   \n",
       "4    b  20.17  5.625    u    g    w    v  1.71    t     f      0     f     s   \n",
       "\n",
       "   col14  col15 col16  \n",
       "0  00202      0     P  \n",
       "1  00043    560     P  \n",
       "2  00280    824     P  \n",
       "3  00100      3     P  \n",
       "4  00120      0     P  "
      ],
      "text/html": "<div>\n<style scoped>\n    .dataframe tbody tr th:only-of-type {\n        vertical-align: middle;\n    }\n\n    .dataframe tbody tr th {\n        vertical-align: top;\n    }\n\n    .dataframe thead th {\n        text-align: right;\n    }\n</style>\n<table border=\"1\" class=\"dataframe\">\n  <thead>\n    <tr style=\"text-align: right;\">\n      <th></th>\n      <th>col1</th>\n      <th>col2</th>\n      <th>col3</th>\n      <th>col4</th>\n      <th>col5</th>\n      <th>col6</th>\n      <th>col7</th>\n      <th>col8</th>\n      <th>col9</th>\n      <th>col10</th>\n      <th>col11</th>\n      <th>col12</th>\n      <th>col13</th>\n      <th>col14</th>\n      <th>col15</th>\n      <th>col16</th>\n    </tr>\n  </thead>\n  <tbody>\n    <tr>\n      <th>0</th>\n      <td>b</td>\n      <td>30.83</td>\n      <td>0.000</td>\n      <td>u</td>\n      <td>g</td>\n      <td>w</td>\n      <td>v</td>\n      <td>1.25</td>\n      <td>t</td>\n      <td>t</td>\n      <td>1</td>\n      <td>f</td>\n      <td>g</td>\n      <td>00202</td>\n      <td>0</td>\n      <td>P</td>\n    </tr>\n    <tr>\n      <th>1</th>\n      <td>a</td>\n      <td>58.67</td>\n      <td>4.460</td>\n      <td>u</td>\n      <td>g</td>\n      <td>q</td>\n      <td>h</td>\n      <td>3.04</td>\n      <td>t</td>\n      <td>t</td>\n      <td>6</td>\n      <td>f</td>\n      <td>g</td>\n      <td>00043</td>\n      <td>560</td>\n      <td>P</td>\n    </tr>\n    <tr>\n      <th>2</th>\n      <td>a</td>\n      <td>24.50</td>\n      <td>0.500</td>\n      <td>u</td>\n      <td>g</td>\n      <td>q</td>\n      <td>h</td>\n      <td>1.50</td>\n      <td>t</td>\n      <td>f</td>\n      <td>0</td>\n      <td>f</td>\n      <td>g</td>\n      <td>00280</td>\n      <td>824</td>\n      <td>P</td>\n    </tr>\n    <tr>\n      <th>3</th>\n      <td>b</td>\n      <td>27.83</td>\n      <td>1.540</td>\n      <td>u</td>\n      <td>g</td>\n      <td>w</td>\n      <td>v</td>\n      <td>3.75</td>\n      <td>t</td>\n      <td>t</td>\n      <td>5</td>\n      <td>t</td>\n      <td>g</td>\n      <td>00100</td>\n      <td>3</td>\n      <td>P</td>\n    </tr>\n    <tr>\n      <th>4</th>\n      <td>b</td>\n      <td>20.17</td>\n      <td>5.625</td>\n      <td>u</td>\n      <td>g</td>\n      <td>w</td>\n      <td>v</td>\n      <td>1.71</td>\n      <td>t</td>\n      <td>f</td>\n      <td>0</td>\n      <td>f</td>\n      <td>s</td>\n      <td>00120</td>\n      <td>0</td>\n      <td>P</td>\n    </tr>\n  </tbody>\n</table>\n</div>"
     },
     "metadata": {},
     "execution_count": 28
    }
   ],
   "source": [
    "data.head()"
   ]
  },
  {
   "source": [
    "### 6. Find and display the number of variables of type ‘Object’"
   ],
   "cell_type": "markdown",
   "metadata": {}
  },
  {
   "cell_type": "code",
   "execution_count": 35,
   "metadata": {},
   "outputs": [
    {
     "output_type": "stream",
     "name": "stdout",
     "text": [
      "The number of columns with data type as object are\n12\nThose columns are: \nIndex(['col1', 'col2', 'col4', 'col5', 'col6', 'col7', 'col9', 'col10',\n       'col12', 'col13', 'col14', 'col16'],\n      dtype='object')\n"
     ]
    }
   ],
   "source": [
    "print(\"The number of columns with data type as object are\")\n",
    "print(data.select_dtypes(include=['object']).shape[1])\n",
    "print(\"Those columns are: \")\n",
    "print(data.select_dtypes(include=['object']).columns)\n"
   ]
  },
  {
   "cell_type": "code",
   "execution_count": 36,
   "metadata": {},
   "outputs": [
    {
     "output_type": "stream",
     "name": "stdout",
     "text": [
      "12 ['col1', 'col2', 'col4', 'col5', 'col6', 'col7', 'col9', 'col10', 'col12', 'col13', 'col14', 'col16']\n"
     ]
    }
   ],
   "source": [
    "# Alternatively:\n",
    "objcols = [col for col in data.columns if data[col].dtypes == 'object']\n",
    "print(len(objcols), objcols)"
   ]
  },
  {
   "source": [
    "## Set 2"
   ],
   "cell_type": "markdown",
   "metadata": {}
  },
  {
   "cell_type": "code",
   "execution_count": 37,
   "metadata": {},
   "outputs": [],
   "source": [
    "dataLoan = pd.read_csv('./loan.csv')"
   ]
  },
  {
   "cell_type": "code",
   "execution_count": 38,
   "metadata": {},
   "outputs": [
    {
     "output_type": "execute_result",
     "data": {
      "text/plain": [
       "   customer_id  disbursed_amount  interest market    employment time_employed  \\\n",
       "0            0           23201.5   15.4840      C       Teacher     <=5 years   \n",
       "1            1            7425.0   11.2032      B    Accountant     <=5 years   \n",
       "2            2           11150.0    8.5100      A  Statistician     <=5 years   \n",
       "3            3            7600.0    5.8656      A         Other     <=5 years   \n",
       "4            4           31960.0   18.7392      E    Bus driver      >5 years   \n",
       "\n",
       "  householder    income date_issued  target        loan_purpose  \\\n",
       "0        RENT   84600.0  2013-06-11       0  Debt consolidation   \n",
       "1       OWNER  102000.0  2014-05-08       0        Car purchase   \n",
       "2        RENT   69840.0  2013-10-26       0  Debt consolidation   \n",
       "3        RENT  100386.0  2015-08-20       0  Debt consolidation   \n",
       "4        RENT   95040.0  2014-07-22       0  Debt consolidation   \n",
       "\n",
       "   number_open_accounts date_last_payment  number_credit_lines_12  \n",
       "0                   4.0        2016-01-14                     NaN  \n",
       "1                  13.0        2016-01-25                     NaN  \n",
       "2                   8.0        2014-09-26                     NaN  \n",
       "3                  20.0        2016-01-26                     NaN  \n",
       "4                  14.0        2016-01-11                     NaN  "
      ],
      "text/html": "<div>\n<style scoped>\n    .dataframe tbody tr th:only-of-type {\n        vertical-align: middle;\n    }\n\n    .dataframe tbody tr th {\n        vertical-align: top;\n    }\n\n    .dataframe thead th {\n        text-align: right;\n    }\n</style>\n<table border=\"1\" class=\"dataframe\">\n  <thead>\n    <tr style=\"text-align: right;\">\n      <th></th>\n      <th>customer_id</th>\n      <th>disbursed_amount</th>\n      <th>interest</th>\n      <th>market</th>\n      <th>employment</th>\n      <th>time_employed</th>\n      <th>householder</th>\n      <th>income</th>\n      <th>date_issued</th>\n      <th>target</th>\n      <th>loan_purpose</th>\n      <th>number_open_accounts</th>\n      <th>date_last_payment</th>\n      <th>number_credit_lines_12</th>\n    </tr>\n  </thead>\n  <tbody>\n    <tr>\n      <th>0</th>\n      <td>0</td>\n      <td>23201.5</td>\n      <td>15.4840</td>\n      <td>C</td>\n      <td>Teacher</td>\n      <td>&lt;=5 years</td>\n      <td>RENT</td>\n      <td>84600.0</td>\n      <td>2013-06-11</td>\n      <td>0</td>\n      <td>Debt consolidation</td>\n      <td>4.0</td>\n      <td>2016-01-14</td>\n      <td>NaN</td>\n    </tr>\n    <tr>\n      <th>1</th>\n      <td>1</td>\n      <td>7425.0</td>\n      <td>11.2032</td>\n      <td>B</td>\n      <td>Accountant</td>\n      <td>&lt;=5 years</td>\n      <td>OWNER</td>\n      <td>102000.0</td>\n      <td>2014-05-08</td>\n      <td>0</td>\n      <td>Car purchase</td>\n      <td>13.0</td>\n      <td>2016-01-25</td>\n      <td>NaN</td>\n    </tr>\n    <tr>\n      <th>2</th>\n      <td>2</td>\n      <td>11150.0</td>\n      <td>8.5100</td>\n      <td>A</td>\n      <td>Statistician</td>\n      <td>&lt;=5 years</td>\n      <td>RENT</td>\n      <td>69840.0</td>\n      <td>2013-10-26</td>\n      <td>0</td>\n      <td>Debt consolidation</td>\n      <td>8.0</td>\n      <td>2014-09-26</td>\n      <td>NaN</td>\n    </tr>\n    <tr>\n      <th>3</th>\n      <td>3</td>\n      <td>7600.0</td>\n      <td>5.8656</td>\n      <td>A</td>\n      <td>Other</td>\n      <td>&lt;=5 years</td>\n      <td>RENT</td>\n      <td>100386.0</td>\n      <td>2015-08-20</td>\n      <td>0</td>\n      <td>Debt consolidation</td>\n      <td>20.0</td>\n      <td>2016-01-26</td>\n      <td>NaN</td>\n    </tr>\n    <tr>\n      <th>4</th>\n      <td>4</td>\n      <td>31960.0</td>\n      <td>18.7392</td>\n      <td>E</td>\n      <td>Bus driver</td>\n      <td>&gt;5 years</td>\n      <td>RENT</td>\n      <td>95040.0</td>\n      <td>2014-07-22</td>\n      <td>0</td>\n      <td>Debt consolidation</td>\n      <td>14.0</td>\n      <td>2016-01-11</td>\n      <td>NaN</td>\n    </tr>\n  </tbody>\n</table>\n</div>"
     },
     "metadata": {},
     "execution_count": 38
    }
   ],
   "source": [
    "dataLoan.head()"
   ]
  },
  {
   "source": [
    "### 1. Display the mean of any two variables with continuous values"
   ],
   "cell_type": "markdown",
   "metadata": {}
  },
  {
   "cell_type": "code",
   "execution_count": 44,
   "metadata": {},
   "outputs": [
    {
     "output_type": "stream",
     "name": "stdout",
     "text": [
      "Mean of disbursed_amount column is:  14132.2755\nMean of income column is:  71572.28728915\n"
     ]
    }
   ],
   "source": [
    "print('Mean of disbursed_amount column is: ',dataLoan['disbursed_amount'].mean())\n",
    "print('Mean of income column is: ',dataLoan['income'].mean())"
   ]
  },
  {
   "source": [
    "### 2. Print the number of discrete variables"
   ],
   "cell_type": "markdown",
   "metadata": {}
  },
  {
   "cell_type": "code",
   "execution_count": 45,
   "metadata": {},
   "outputs": [
    {
     "output_type": "stream",
     "name": "stdout",
     "text": [
      "<class 'pandas.core.frame.DataFrame'>\nRangeIndex: 10000 entries, 0 to 9999\nData columns (total 14 columns):\n #   Column                  Non-Null Count  Dtype  \n---  ------                  --------------  -----  \n 0   customer_id             10000 non-null  int64  \n 1   disbursed_amount        10000 non-null  float64\n 2   interest                10000 non-null  float64\n 3   market                  10000 non-null  object \n 4   employment              9389 non-null   object \n 5   time_employed           9471 non-null   object \n 6   householder             10000 non-null  object \n 7   income                  10000 non-null  float64\n 8   date_issued             10000 non-null  object \n 9   target                  10000 non-null  int64  \n 10  loan_purpose            10000 non-null  object \n 11  number_open_accounts    10000 non-null  float64\n 12  date_last_payment       10000 non-null  object \n 13  number_credit_lines_12  238 non-null    float64\ndtypes: float64(5), int64(2), object(7)\nmemory usage: 1.1+ MB\n"
     ]
    }
   ],
   "source": [
    "dataLoan.info()"
   ]
  },
  {
   "cell_type": "code",
   "execution_count": 46,
   "metadata": {},
   "outputs": [
    {
     "output_type": "execute_result",
     "data": {
      "text/plain": [
       "   customer_id  disbursed_amount  interest market    employment time_employed  \\\n",
       "0            0           23201.5   15.4840      C       Teacher     <=5 years   \n",
       "1            1            7425.0   11.2032      B    Accountant     <=5 years   \n",
       "2            2           11150.0    8.5100      A  Statistician     <=5 years   \n",
       "3            3            7600.0    5.8656      A         Other     <=5 years   \n",
       "4            4           31960.0   18.7392      E    Bus driver      >5 years   \n",
       "\n",
       "  householder    income date_issued  target        loan_purpose  \\\n",
       "0        RENT   84600.0  2013-06-11       0  Debt consolidation   \n",
       "1       OWNER  102000.0  2014-05-08       0        Car purchase   \n",
       "2        RENT   69840.0  2013-10-26       0  Debt consolidation   \n",
       "3        RENT  100386.0  2015-08-20       0  Debt consolidation   \n",
       "4        RENT   95040.0  2014-07-22       0  Debt consolidation   \n",
       "\n",
       "   number_open_accounts date_last_payment  number_credit_lines_12  \n",
       "0                   4.0        2016-01-14                     NaN  \n",
       "1                  13.0        2016-01-25                     NaN  \n",
       "2                   8.0        2014-09-26                     NaN  \n",
       "3                  20.0        2016-01-26                     NaN  \n",
       "4                  14.0        2016-01-11                     NaN  "
      ],
      "text/html": "<div>\n<style scoped>\n    .dataframe tbody tr th:only-of-type {\n        vertical-align: middle;\n    }\n\n    .dataframe tbody tr th {\n        vertical-align: top;\n    }\n\n    .dataframe thead th {\n        text-align: right;\n    }\n</style>\n<table border=\"1\" class=\"dataframe\">\n  <thead>\n    <tr style=\"text-align: right;\">\n      <th></th>\n      <th>customer_id</th>\n      <th>disbursed_amount</th>\n      <th>interest</th>\n      <th>market</th>\n      <th>employment</th>\n      <th>time_employed</th>\n      <th>householder</th>\n      <th>income</th>\n      <th>date_issued</th>\n      <th>target</th>\n      <th>loan_purpose</th>\n      <th>number_open_accounts</th>\n      <th>date_last_payment</th>\n      <th>number_credit_lines_12</th>\n    </tr>\n  </thead>\n  <tbody>\n    <tr>\n      <th>0</th>\n      <td>0</td>\n      <td>23201.5</td>\n      <td>15.4840</td>\n      <td>C</td>\n      <td>Teacher</td>\n      <td>&lt;=5 years</td>\n      <td>RENT</td>\n      <td>84600.0</td>\n      <td>2013-06-11</td>\n      <td>0</td>\n      <td>Debt consolidation</td>\n      <td>4.0</td>\n      <td>2016-01-14</td>\n      <td>NaN</td>\n    </tr>\n    <tr>\n      <th>1</th>\n      <td>1</td>\n      <td>7425.0</td>\n      <td>11.2032</td>\n      <td>B</td>\n      <td>Accountant</td>\n      <td>&lt;=5 years</td>\n      <td>OWNER</td>\n      <td>102000.0</td>\n      <td>2014-05-08</td>\n      <td>0</td>\n      <td>Car purchase</td>\n      <td>13.0</td>\n      <td>2016-01-25</td>\n      <td>NaN</td>\n    </tr>\n    <tr>\n      <th>2</th>\n      <td>2</td>\n      <td>11150.0</td>\n      <td>8.5100</td>\n      <td>A</td>\n      <td>Statistician</td>\n      <td>&lt;=5 years</td>\n      <td>RENT</td>\n      <td>69840.0</td>\n      <td>2013-10-26</td>\n      <td>0</td>\n      <td>Debt consolidation</td>\n      <td>8.0</td>\n      <td>2014-09-26</td>\n      <td>NaN</td>\n    </tr>\n    <tr>\n      <th>3</th>\n      <td>3</td>\n      <td>7600.0</td>\n      <td>5.8656</td>\n      <td>A</td>\n      <td>Other</td>\n      <td>&lt;=5 years</td>\n      <td>RENT</td>\n      <td>100386.0</td>\n      <td>2015-08-20</td>\n      <td>0</td>\n      <td>Debt consolidation</td>\n      <td>20.0</td>\n      <td>2016-01-26</td>\n      <td>NaN</td>\n    </tr>\n    <tr>\n      <th>4</th>\n      <td>4</td>\n      <td>31960.0</td>\n      <td>18.7392</td>\n      <td>E</td>\n      <td>Bus driver</td>\n      <td>&gt;5 years</td>\n      <td>RENT</td>\n      <td>95040.0</td>\n      <td>2014-07-22</td>\n      <td>0</td>\n      <td>Debt consolidation</td>\n      <td>14.0</td>\n      <td>2016-01-11</td>\n      <td>NaN</td>\n    </tr>\n  </tbody>\n</table>\n</div>"
     },
     "metadata": {},
     "execution_count": 46
    }
   ],
   "source": [
    "dataLoan.head()"
   ]
  },
  {
   "source": [
    "#### From the above 2 outputs we can infer that discrete variables are of data type 'int64' but the column named 'number_open_accounts' is also a discrete variable but has 'float64' as data type. \n",
    "=> We can convert it to 'int64' but it is not asked in the question."
   ],
   "cell_type": "markdown",
   "metadata": {}
  },
  {
   "cell_type": "code",
   "execution_count": 52,
   "metadata": {},
   "outputs": [
    {
     "output_type": "stream",
     "name": "stdout",
     "text": [
      "2\n"
     ]
    }
   ],
   "source": [
    "discCol = [col for col in dataLoan.columns if dataLoan[col].dtypes == 'int64']"
   ]
  },
  {
   "cell_type": "code",
   "execution_count": 53,
   "metadata": {},
   "outputs": [
    {
     "output_type": "stream",
     "name": "stdout",
     "text": [
      "2\n"
     ]
    }
   ],
   "source": [
    "print(len(discCol))"
   ]
  },
  {
   "source": [
    "### 3. Display the unique values of two variables with discrete values"
   ],
   "cell_type": "markdown",
   "metadata": {}
  },
  {
   "cell_type": "code",
   "execution_count": 55,
   "metadata": {},
   "outputs": [
    {
     "output_type": "stream",
     "name": "stdout",
     "text": [
      "customer_id unique values:  [   0    1    2 ... 9997 9998 9999]\ntarget unique values:  [0 1]\n"
     ]
    }
   ],
   "source": [
    "for col in discCol:\n",
    "    print(col, 'unique values: ',dataLoan[col].unique())"
   ]
  },
  {
   "source": [
    "### 4. Display the Month with most of loans issued date"
   ],
   "cell_type": "markdown",
   "metadata": {}
  },
  {
   "cell_type": "code",
   "execution_count": 56,
   "metadata": {},
   "outputs": [],
   "source": [
    "# converting datatype first\n",
    "dataLoan['date_issued_dt'] = pd.to_datetime(dataLoan['date_issued'])"
   ]
  },
  {
   "cell_type": "code",
   "execution_count": 57,
   "metadata": {},
   "outputs": [],
   "source": [
    "# Extracting months and creating a seperate column for it\n",
    "dataLoan['month'] = dataLoan['date_issued_dt'].dt.month\n"
   ]
  },
  {
   "cell_type": "code",
   "execution_count": 58,
   "metadata": {},
   "outputs": [
    {
     "output_type": "execute_result",
     "data": {
      "text/plain": [
       "   customer_id  disbursed_amount  interest market    employment time_employed  \\\n",
       "0            0           23201.5   15.4840      C       Teacher     <=5 years   \n",
       "1            1            7425.0   11.2032      B    Accountant     <=5 years   \n",
       "2            2           11150.0    8.5100      A  Statistician     <=5 years   \n",
       "3            3            7600.0    5.8656      A         Other     <=5 years   \n",
       "4            4           31960.0   18.7392      E    Bus driver      >5 years   \n",
       "\n",
       "  householder    income date_issued  target        loan_purpose  \\\n",
       "0        RENT   84600.0  2013-06-11       0  Debt consolidation   \n",
       "1       OWNER  102000.0  2014-05-08       0        Car purchase   \n",
       "2        RENT   69840.0  2013-10-26       0  Debt consolidation   \n",
       "3        RENT  100386.0  2015-08-20       0  Debt consolidation   \n",
       "4        RENT   95040.0  2014-07-22       0  Debt consolidation   \n",
       "\n",
       "   number_open_accounts date_last_payment  number_credit_lines_12  \\\n",
       "0                   4.0        2016-01-14                     NaN   \n",
       "1                  13.0        2016-01-25                     NaN   \n",
       "2                   8.0        2014-09-26                     NaN   \n",
       "3                  20.0        2016-01-26                     NaN   \n",
       "4                  14.0        2016-01-11                     NaN   \n",
       "\n",
       "  date_issued_dt  month  \n",
       "0     2013-06-11      6  \n",
       "1     2014-05-08      5  \n",
       "2     2013-10-26     10  \n",
       "3     2015-08-20      8  \n",
       "4     2014-07-22      7  "
      ],
      "text/html": "<div>\n<style scoped>\n    .dataframe tbody tr th:only-of-type {\n        vertical-align: middle;\n    }\n\n    .dataframe tbody tr th {\n        vertical-align: top;\n    }\n\n    .dataframe thead th {\n        text-align: right;\n    }\n</style>\n<table border=\"1\" class=\"dataframe\">\n  <thead>\n    <tr style=\"text-align: right;\">\n      <th></th>\n      <th>customer_id</th>\n      <th>disbursed_amount</th>\n      <th>interest</th>\n      <th>market</th>\n      <th>employment</th>\n      <th>time_employed</th>\n      <th>householder</th>\n      <th>income</th>\n      <th>date_issued</th>\n      <th>target</th>\n      <th>loan_purpose</th>\n      <th>number_open_accounts</th>\n      <th>date_last_payment</th>\n      <th>number_credit_lines_12</th>\n      <th>date_issued_dt</th>\n      <th>month</th>\n    </tr>\n  </thead>\n  <tbody>\n    <tr>\n      <th>0</th>\n      <td>0</td>\n      <td>23201.5</td>\n      <td>15.4840</td>\n      <td>C</td>\n      <td>Teacher</td>\n      <td>&lt;=5 years</td>\n      <td>RENT</td>\n      <td>84600.0</td>\n      <td>2013-06-11</td>\n      <td>0</td>\n      <td>Debt consolidation</td>\n      <td>4.0</td>\n      <td>2016-01-14</td>\n      <td>NaN</td>\n      <td>2013-06-11</td>\n      <td>6</td>\n    </tr>\n    <tr>\n      <th>1</th>\n      <td>1</td>\n      <td>7425.0</td>\n      <td>11.2032</td>\n      <td>B</td>\n      <td>Accountant</td>\n      <td>&lt;=5 years</td>\n      <td>OWNER</td>\n      <td>102000.0</td>\n      <td>2014-05-08</td>\n      <td>0</td>\n      <td>Car purchase</td>\n      <td>13.0</td>\n      <td>2016-01-25</td>\n      <td>NaN</td>\n      <td>2014-05-08</td>\n      <td>5</td>\n    </tr>\n    <tr>\n      <th>2</th>\n      <td>2</td>\n      <td>11150.0</td>\n      <td>8.5100</td>\n      <td>A</td>\n      <td>Statistician</td>\n      <td>&lt;=5 years</td>\n      <td>RENT</td>\n      <td>69840.0</td>\n      <td>2013-10-26</td>\n      <td>0</td>\n      <td>Debt consolidation</td>\n      <td>8.0</td>\n      <td>2014-09-26</td>\n      <td>NaN</td>\n      <td>2013-10-26</td>\n      <td>10</td>\n    </tr>\n    <tr>\n      <th>3</th>\n      <td>3</td>\n      <td>7600.0</td>\n      <td>5.8656</td>\n      <td>A</td>\n      <td>Other</td>\n      <td>&lt;=5 years</td>\n      <td>RENT</td>\n      <td>100386.0</td>\n      <td>2015-08-20</td>\n      <td>0</td>\n      <td>Debt consolidation</td>\n      <td>20.0</td>\n      <td>2016-01-26</td>\n      <td>NaN</td>\n      <td>2015-08-20</td>\n      <td>8</td>\n    </tr>\n    <tr>\n      <th>4</th>\n      <td>4</td>\n      <td>31960.0</td>\n      <td>18.7392</td>\n      <td>E</td>\n      <td>Bus driver</td>\n      <td>&gt;5 years</td>\n      <td>RENT</td>\n      <td>95040.0</td>\n      <td>2014-07-22</td>\n      <td>0</td>\n      <td>Debt consolidation</td>\n      <td>14.0</td>\n      <td>2016-01-11</td>\n      <td>NaN</td>\n      <td>2014-07-22</td>\n      <td>7</td>\n    </tr>\n  </tbody>\n</table>\n</div>"
     },
     "metadata": {},
     "execution_count": 58
    }
   ],
   "source": [
    "dataLoan.head()"
   ]
  },
  {
   "cell_type": "code",
   "execution_count": 70,
   "metadata": {},
   "outputs": [
    {
     "output_type": "execute_result",
     "data": {
      "text/plain": [
       "10"
      ]
     },
     "metadata": {},
     "execution_count": 70
    }
   ],
   "source": [
    "# Getting the month value with maximum loans:\n",
    "dataLoan['month'].value_counts().idxmax()"
   ]
  },
  {
   "source": [
    "### 5. Display the count of ‘Teacher’ who are ‘Owners’"
   ],
   "cell_type": "markdown",
   "metadata": {}
  },
  {
   "cell_type": "code",
   "execution_count": 83,
   "metadata": {},
   "outputs": [
    {
     "output_type": "stream",
     "name": "stdout",
     "text": [
      "Number of teachers who are owners are :  69\n"
     ]
    }
   ],
   "source": [
    "df = dataLoan[(dataLoan['employment']=='Teacher') &(dataLoan['householder'] == 'OWNER')]\n",
    "print('Number of teachers who are owners are : ',df.shape[0])"
   ]
  },
  {
   "source": [
    "### 6. Display the ‘Employment’ of customers who mostly ‘Rent’"
   ],
   "cell_type": "markdown",
   "metadata": {}
  },
  {
   "cell_type": "code",
   "execution_count": 105,
   "metadata": {},
   "outputs": [
    {
     "output_type": "stream",
     "name": "stdout",
     "text": [
      "‘Employment’ of customers who mostly ‘Rent’ is : Teacher\n"
     ]
    }
   ],
   "source": [
    "g1 = dataLoan[dataLoan['householder'] == 'RENT']\n",
    "print(\"‘Employment’ of customers who mostly ‘Rent’ is :\", g1['employment'].value_counts().idxmax())"
   ]
  },
  {
   "cell_type": "code",
   "execution_count": null,
   "metadata": {},
   "outputs": [],
   "source": []
  }
 ]
}