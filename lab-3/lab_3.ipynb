{
 "metadata": {
  "language_info": {
   "codemirror_mode": {
    "name": "ipython",
    "version": 3
   },
   "file_extension": ".py",
   "mimetype": "text/x-python",
   "name": "python",
   "nbconvert_exporter": "python",
   "pygments_lexer": "ipython3",
   "version": "3.9.1-final"
  },
  "orig_nbformat": 2,
  "kernelspec": {
   "name": "python3",
   "display_name": "Python 3.9.1 64-bit",
   "metadata": {
    "interpreter": {
     "hash": "aee8b7b246df8f9039afb4144a1f6fd8d2ca17a180786b69acc140d282b71a49"
    }
   }
  }
 },
 "nbformat": 4,
 "nbformat_minor": 2,
 "cells": [
  {
   "source": [
    "# Machine Learning CSE4020 L9+L10\n",
    "## Proff. Sharmila Banu K.\n",
    "### Sahaj Adlakha (18BCE0054)\n",
    "Theory Slot - F2\n",
    "\n",
    "### LAB TASK 1 - Simple Binary Classification"
   ],
   "cell_type": "markdown",
   "metadata": {}
  },
  {
   "cell_type": "code",
   "execution_count": 79,
   "metadata": {},
   "outputs": [],
   "source": [
    "import sklearn.datasets\n",
    "import numpy as np"
   ]
  },
  {
   "cell_type": "code",
   "execution_count": 80,
   "metadata": {},
   "outputs": [],
   "source": [
    "cancer_ds = sklearn.datasets.load_breast_cancer()"
   ]
  },
  {
   "cell_type": "code",
   "execution_count": 81,
   "metadata": {},
   "outputs": [],
   "source": [
    "# Organising X and Y\n",
    "X = cancer_ds.data\n",
    "Y = cancer_ds.target"
   ]
  },
  {
   "cell_type": "code",
   "execution_count": 82,
   "metadata": {},
   "outputs": [
    {
     "output_type": "stream",
     "name": "stdout",
     "text": [
      "[[1.799e+01 1.038e+01 1.228e+02 ... 2.654e-01 4.601e-01 1.189e-01]\n [2.057e+01 1.777e+01 1.329e+02 ... 1.860e-01 2.750e-01 8.902e-02]\n [1.969e+01 2.125e+01 1.300e+02 ... 2.430e-01 3.613e-01 8.758e-02]\n ...\n [1.660e+01 2.808e+01 1.083e+02 ... 1.418e-01 2.218e-01 7.820e-02]\n [2.060e+01 2.933e+01 1.401e+02 ... 2.650e-01 4.087e-01 1.240e-01]\n [7.760e+00 2.454e+01 4.792e+01 ... 0.000e+00 2.871e-01 7.039e-02]]\n"
     ]
    }
   ],
   "source": [
    "print(X)"
   ]
  },
  {
   "cell_type": "code",
   "execution_count": 83,
   "metadata": {},
   "outputs": [
    {
     "output_type": "stream",
     "name": "stdout",
     "text": [
      "[0 0 0 0 0 0 0 0 0 0 0 0 0 0 0 0 0 0 0 1 1 1 0 0 0 0 0 0 0 0 0 0 0 0 0 0 0\n 1 0 0 0 0 0 0 0 0 1 0 1 1 1 1 1 0 0 1 0 0 1 1 1 1 0 1 0 0 1 1 1 1 0 1 0 0\n 1 0 1 0 0 1 1 1 0 0 1 0 0 0 1 1 1 0 1 1 0 0 1 1 1 0 0 1 1 1 1 0 1 1 0 1 1\n 1 1 1 1 1 1 0 0 0 1 0 0 1 1 1 0 0 1 0 1 0 0 1 0 0 1 1 0 1 1 0 1 1 1 1 0 1\n 1 1 1 1 1 1 1 1 0 1 1 1 1 0 0 1 0 1 1 0 0 1 1 0 0 1 1 1 1 0 1 1 0 0 0 1 0\n 1 0 1 1 1 0 1 1 0 0 1 0 0 0 0 1 0 0 0 1 0 1 0 1 1 0 1 0 0 0 0 1 1 0 0 1 1\n 1 0 1 1 1 1 1 0 0 1 1 0 1 1 0 0 1 0 1 1 1 1 0 1 1 1 1 1 0 1 0 0 0 0 0 0 0\n 0 0 0 0 0 0 0 1 1 1 1 1 1 0 1 0 1 1 0 1 1 0 1 0 0 1 1 1 1 1 1 1 1 1 1 1 1\n 1 0 1 1 0 1 0 1 1 1 1 1 1 1 1 1 1 1 1 1 1 0 1 1 1 0 1 0 1 1 1 1 0 0 0 1 1\n 1 1 0 1 0 1 0 1 1 1 0 1 1 1 1 1 1 1 0 0 0 1 1 1 1 1 1 1 1 1 1 1 0 0 1 0 0\n 0 1 0 0 1 1 1 1 1 0 1 1 1 1 1 0 1 1 1 0 1 1 0 0 1 1 1 1 1 1 0 1 1 1 1 1 1\n 1 0 1 1 1 1 1 0 1 1 0 1 1 1 1 1 1 1 1 1 1 1 1 0 1 0 0 1 0 1 1 1 1 1 0 1 1\n 0 1 0 1 1 0 1 0 1 1 1 1 1 1 1 1 0 0 1 1 1 1 1 1 0 1 1 1 1 1 1 1 1 1 1 0 1\n 1 1 1 1 1 1 0 1 0 1 1 0 1 1 1 1 1 0 0 1 0 1 0 1 1 1 1 1 0 1 1 0 1 0 1 0 0\n 1 1 1 0 1 1 1 1 1 1 1 1 1 1 1 0 1 0 0 1 1 1 1 1 1 1 1 1 1 1 1 1 1 1 1 1 1\n 1 1 1 1 1 1 1 0 0 0 0 0 0 1]\n"
     ]
    }
   ],
   "source": [
    "print(Y)"
   ]
  },
  {
   "cell_type": "code",
   "execution_count": 84,
   "metadata": {},
   "outputs": [
    {
     "output_type": "stream",
     "name": "stdout",
     "text": [
      "(569, 30) (569,)\n"
     ]
    }
   ],
   "source": [
    "print(X.shape, Y.shape)"
   ]
  },
  {
   "cell_type": "code",
   "execution_count": 85,
   "metadata": {},
   "outputs": [],
   "source": [
    "# Get The data into a dataframe\n",
    "import pandas as pd\n",
    "data = pd.DataFrame(cancer_ds.data, columns=cancer_ds.feature_names)\n"
   ]
  },
  {
   "cell_type": "code",
   "execution_count": 86,
   "metadata": {},
   "outputs": [],
   "source": [
    "# REname the target Variable\n",
    "data['class'] = cancer_ds.target"
   ]
  },
  {
   "cell_type": "code",
   "execution_count": 87,
   "metadata": {},
   "outputs": [
    {
     "output_type": "execute_result",
     "data": {
      "text/plain": [
       "   mean radius  mean texture  mean perimeter  mean area  mean smoothness  \\\n",
       "0        17.99         10.38          122.80     1001.0          0.11840   \n",
       "1        20.57         17.77          132.90     1326.0          0.08474   \n",
       "2        19.69         21.25          130.00     1203.0          0.10960   \n",
       "3        11.42         20.38           77.58      386.1          0.14250   \n",
       "4        20.29         14.34          135.10     1297.0          0.10030   \n",
       "\n",
       "   mean compactness  mean concavity  mean concave points  mean symmetry  \\\n",
       "0           0.27760          0.3001              0.14710         0.2419   \n",
       "1           0.07864          0.0869              0.07017         0.1812   \n",
       "2           0.15990          0.1974              0.12790         0.2069   \n",
       "3           0.28390          0.2414              0.10520         0.2597   \n",
       "4           0.13280          0.1980              0.10430         0.1809   \n",
       "\n",
       "   mean fractal dimension  ...  worst texture  worst perimeter  worst area  \\\n",
       "0                 0.07871  ...          17.33           184.60      2019.0   \n",
       "1                 0.05667  ...          23.41           158.80      1956.0   \n",
       "2                 0.05999  ...          25.53           152.50      1709.0   \n",
       "3                 0.09744  ...          26.50            98.87       567.7   \n",
       "4                 0.05883  ...          16.67           152.20      1575.0   \n",
       "\n",
       "   worst smoothness  worst compactness  worst concavity  worst concave points  \\\n",
       "0            0.1622             0.6656           0.7119                0.2654   \n",
       "1            0.1238             0.1866           0.2416                0.1860   \n",
       "2            0.1444             0.4245           0.4504                0.2430   \n",
       "3            0.2098             0.8663           0.6869                0.2575   \n",
       "4            0.1374             0.2050           0.4000                0.1625   \n",
       "\n",
       "   worst symmetry  worst fractal dimension  class  \n",
       "0          0.4601                  0.11890      0  \n",
       "1          0.2750                  0.08902      0  \n",
       "2          0.3613                  0.08758      0  \n",
       "3          0.6638                  0.17300      0  \n",
       "4          0.2364                  0.07678      0  \n",
       "\n",
       "[5 rows x 31 columns]"
      ],
      "text/html": "<div>\n<style scoped>\n    .dataframe tbody tr th:only-of-type {\n        vertical-align: middle;\n    }\n\n    .dataframe tbody tr th {\n        vertical-align: top;\n    }\n\n    .dataframe thead th {\n        text-align: right;\n    }\n</style>\n<table border=\"1\" class=\"dataframe\">\n  <thead>\n    <tr style=\"text-align: right;\">\n      <th></th>\n      <th>mean radius</th>\n      <th>mean texture</th>\n      <th>mean perimeter</th>\n      <th>mean area</th>\n      <th>mean smoothness</th>\n      <th>mean compactness</th>\n      <th>mean concavity</th>\n      <th>mean concave points</th>\n      <th>mean symmetry</th>\n      <th>mean fractal dimension</th>\n      <th>...</th>\n      <th>worst texture</th>\n      <th>worst perimeter</th>\n      <th>worst area</th>\n      <th>worst smoothness</th>\n      <th>worst compactness</th>\n      <th>worst concavity</th>\n      <th>worst concave points</th>\n      <th>worst symmetry</th>\n      <th>worst fractal dimension</th>\n      <th>class</th>\n    </tr>\n  </thead>\n  <tbody>\n    <tr>\n      <th>0</th>\n      <td>17.99</td>\n      <td>10.38</td>\n      <td>122.80</td>\n      <td>1001.0</td>\n      <td>0.11840</td>\n      <td>0.27760</td>\n      <td>0.3001</td>\n      <td>0.14710</td>\n      <td>0.2419</td>\n      <td>0.07871</td>\n      <td>...</td>\n      <td>17.33</td>\n      <td>184.60</td>\n      <td>2019.0</td>\n      <td>0.1622</td>\n      <td>0.6656</td>\n      <td>0.7119</td>\n      <td>0.2654</td>\n      <td>0.4601</td>\n      <td>0.11890</td>\n      <td>0</td>\n    </tr>\n    <tr>\n      <th>1</th>\n      <td>20.57</td>\n      <td>17.77</td>\n      <td>132.90</td>\n      <td>1326.0</td>\n      <td>0.08474</td>\n      <td>0.07864</td>\n      <td>0.0869</td>\n      <td>0.07017</td>\n      <td>0.1812</td>\n      <td>0.05667</td>\n      <td>...</td>\n      <td>23.41</td>\n      <td>158.80</td>\n      <td>1956.0</td>\n      <td>0.1238</td>\n      <td>0.1866</td>\n      <td>0.2416</td>\n      <td>0.1860</td>\n      <td>0.2750</td>\n      <td>0.08902</td>\n      <td>0</td>\n    </tr>\n    <tr>\n      <th>2</th>\n      <td>19.69</td>\n      <td>21.25</td>\n      <td>130.00</td>\n      <td>1203.0</td>\n      <td>0.10960</td>\n      <td>0.15990</td>\n      <td>0.1974</td>\n      <td>0.12790</td>\n      <td>0.2069</td>\n      <td>0.05999</td>\n      <td>...</td>\n      <td>25.53</td>\n      <td>152.50</td>\n      <td>1709.0</td>\n      <td>0.1444</td>\n      <td>0.4245</td>\n      <td>0.4504</td>\n      <td>0.2430</td>\n      <td>0.3613</td>\n      <td>0.08758</td>\n      <td>0</td>\n    </tr>\n    <tr>\n      <th>3</th>\n      <td>11.42</td>\n      <td>20.38</td>\n      <td>77.58</td>\n      <td>386.1</td>\n      <td>0.14250</td>\n      <td>0.28390</td>\n      <td>0.2414</td>\n      <td>0.10520</td>\n      <td>0.2597</td>\n      <td>0.09744</td>\n      <td>...</td>\n      <td>26.50</td>\n      <td>98.87</td>\n      <td>567.7</td>\n      <td>0.2098</td>\n      <td>0.8663</td>\n      <td>0.6869</td>\n      <td>0.2575</td>\n      <td>0.6638</td>\n      <td>0.17300</td>\n      <td>0</td>\n    </tr>\n    <tr>\n      <th>4</th>\n      <td>20.29</td>\n      <td>14.34</td>\n      <td>135.10</td>\n      <td>1297.0</td>\n      <td>0.10030</td>\n      <td>0.13280</td>\n      <td>0.1980</td>\n      <td>0.10430</td>\n      <td>0.1809</td>\n      <td>0.05883</td>\n      <td>...</td>\n      <td>16.67</td>\n      <td>152.20</td>\n      <td>1575.0</td>\n      <td>0.1374</td>\n      <td>0.2050</td>\n      <td>0.4000</td>\n      <td>0.1625</td>\n      <td>0.2364</td>\n      <td>0.07678</td>\n      <td>0</td>\n    </tr>\n  </tbody>\n</table>\n<p>5 rows × 31 columns</p>\n</div>"
     },
     "metadata": {},
     "execution_count": 87
    }
   ],
   "source": [
    "data.head()"
   ]
  },
  {
   "cell_type": "code",
   "execution_count": 88,
   "metadata": {},
   "outputs": [
    {
     "output_type": "execute_result",
     "data": {
      "text/plain": [
       "       mean radius  mean texture  mean perimeter    mean area  \\\n",
       "count   569.000000    569.000000      569.000000   569.000000   \n",
       "mean     14.127292     19.289649       91.969033   654.889104   \n",
       "std       3.524049      4.301036       24.298981   351.914129   \n",
       "min       6.981000      9.710000       43.790000   143.500000   \n",
       "25%      11.700000     16.170000       75.170000   420.300000   \n",
       "50%      13.370000     18.840000       86.240000   551.100000   \n",
       "75%      15.780000     21.800000      104.100000   782.700000   \n",
       "max      28.110000     39.280000      188.500000  2501.000000   \n",
       "\n",
       "       mean smoothness  mean compactness  mean concavity  mean concave points  \\\n",
       "count       569.000000        569.000000      569.000000           569.000000   \n",
       "mean          0.096360          0.104341        0.088799             0.048919   \n",
       "std           0.014064          0.052813        0.079720             0.038803   \n",
       "min           0.052630          0.019380        0.000000             0.000000   \n",
       "25%           0.086370          0.064920        0.029560             0.020310   \n",
       "50%           0.095870          0.092630        0.061540             0.033500   \n",
       "75%           0.105300          0.130400        0.130700             0.074000   \n",
       "max           0.163400          0.345400        0.426800             0.201200   \n",
       "\n",
       "       mean symmetry  mean fractal dimension  ...  worst texture  \\\n",
       "count     569.000000              569.000000  ...     569.000000   \n",
       "mean        0.181162                0.062798  ...      25.677223   \n",
       "std         0.027414                0.007060  ...       6.146258   \n",
       "min         0.106000                0.049960  ...      12.020000   \n",
       "25%         0.161900                0.057700  ...      21.080000   \n",
       "50%         0.179200                0.061540  ...      25.410000   \n",
       "75%         0.195700                0.066120  ...      29.720000   \n",
       "max         0.304000                0.097440  ...      49.540000   \n",
       "\n",
       "       worst perimeter   worst area  worst smoothness  worst compactness  \\\n",
       "count       569.000000   569.000000        569.000000         569.000000   \n",
       "mean        107.261213   880.583128          0.132369           0.254265   \n",
       "std          33.602542   569.356993          0.022832           0.157336   \n",
       "min          50.410000   185.200000          0.071170           0.027290   \n",
       "25%          84.110000   515.300000          0.116600           0.147200   \n",
       "50%          97.660000   686.500000          0.131300           0.211900   \n",
       "75%         125.400000  1084.000000          0.146000           0.339100   \n",
       "max         251.200000  4254.000000          0.222600           1.058000   \n",
       "\n",
       "       worst concavity  worst concave points  worst symmetry  \\\n",
       "count       569.000000            569.000000      569.000000   \n",
       "mean          0.272188              0.114606        0.290076   \n",
       "std           0.208624              0.065732        0.061867   \n",
       "min           0.000000              0.000000        0.156500   \n",
       "25%           0.114500              0.064930        0.250400   \n",
       "50%           0.226700              0.099930        0.282200   \n",
       "75%           0.382900              0.161400        0.317900   \n",
       "max           1.252000              0.291000        0.663800   \n",
       "\n",
       "       worst fractal dimension       class  \n",
       "count               569.000000  569.000000  \n",
       "mean                  0.083946    0.627417  \n",
       "std                   0.018061    0.483918  \n",
       "min                   0.055040    0.000000  \n",
       "25%                   0.071460    0.000000  \n",
       "50%                   0.080040    1.000000  \n",
       "75%                   0.092080    1.000000  \n",
       "max                   0.207500    1.000000  \n",
       "\n",
       "[8 rows x 31 columns]"
      ],
      "text/html": "<div>\n<style scoped>\n    .dataframe tbody tr th:only-of-type {\n        vertical-align: middle;\n    }\n\n    .dataframe tbody tr th {\n        vertical-align: top;\n    }\n\n    .dataframe thead th {\n        text-align: right;\n    }\n</style>\n<table border=\"1\" class=\"dataframe\">\n  <thead>\n    <tr style=\"text-align: right;\">\n      <th></th>\n      <th>mean radius</th>\n      <th>mean texture</th>\n      <th>mean perimeter</th>\n      <th>mean area</th>\n      <th>mean smoothness</th>\n      <th>mean compactness</th>\n      <th>mean concavity</th>\n      <th>mean concave points</th>\n      <th>mean symmetry</th>\n      <th>mean fractal dimension</th>\n      <th>...</th>\n      <th>worst texture</th>\n      <th>worst perimeter</th>\n      <th>worst area</th>\n      <th>worst smoothness</th>\n      <th>worst compactness</th>\n      <th>worst concavity</th>\n      <th>worst concave points</th>\n      <th>worst symmetry</th>\n      <th>worst fractal dimension</th>\n      <th>class</th>\n    </tr>\n  </thead>\n  <tbody>\n    <tr>\n      <th>count</th>\n      <td>569.000000</td>\n      <td>569.000000</td>\n      <td>569.000000</td>\n      <td>569.000000</td>\n      <td>569.000000</td>\n      <td>569.000000</td>\n      <td>569.000000</td>\n      <td>569.000000</td>\n      <td>569.000000</td>\n      <td>569.000000</td>\n      <td>...</td>\n      <td>569.000000</td>\n      <td>569.000000</td>\n      <td>569.000000</td>\n      <td>569.000000</td>\n      <td>569.000000</td>\n      <td>569.000000</td>\n      <td>569.000000</td>\n      <td>569.000000</td>\n      <td>569.000000</td>\n      <td>569.000000</td>\n    </tr>\n    <tr>\n      <th>mean</th>\n      <td>14.127292</td>\n      <td>19.289649</td>\n      <td>91.969033</td>\n      <td>654.889104</td>\n      <td>0.096360</td>\n      <td>0.104341</td>\n      <td>0.088799</td>\n      <td>0.048919</td>\n      <td>0.181162</td>\n      <td>0.062798</td>\n      <td>...</td>\n      <td>25.677223</td>\n      <td>107.261213</td>\n      <td>880.583128</td>\n      <td>0.132369</td>\n      <td>0.254265</td>\n      <td>0.272188</td>\n      <td>0.114606</td>\n      <td>0.290076</td>\n      <td>0.083946</td>\n      <td>0.627417</td>\n    </tr>\n    <tr>\n      <th>std</th>\n      <td>3.524049</td>\n      <td>4.301036</td>\n      <td>24.298981</td>\n      <td>351.914129</td>\n      <td>0.014064</td>\n      <td>0.052813</td>\n      <td>0.079720</td>\n      <td>0.038803</td>\n      <td>0.027414</td>\n      <td>0.007060</td>\n      <td>...</td>\n      <td>6.146258</td>\n      <td>33.602542</td>\n      <td>569.356993</td>\n      <td>0.022832</td>\n      <td>0.157336</td>\n      <td>0.208624</td>\n      <td>0.065732</td>\n      <td>0.061867</td>\n      <td>0.018061</td>\n      <td>0.483918</td>\n    </tr>\n    <tr>\n      <th>min</th>\n      <td>6.981000</td>\n      <td>9.710000</td>\n      <td>43.790000</td>\n      <td>143.500000</td>\n      <td>0.052630</td>\n      <td>0.019380</td>\n      <td>0.000000</td>\n      <td>0.000000</td>\n      <td>0.106000</td>\n      <td>0.049960</td>\n      <td>...</td>\n      <td>12.020000</td>\n      <td>50.410000</td>\n      <td>185.200000</td>\n      <td>0.071170</td>\n      <td>0.027290</td>\n      <td>0.000000</td>\n      <td>0.000000</td>\n      <td>0.156500</td>\n      <td>0.055040</td>\n      <td>0.000000</td>\n    </tr>\n    <tr>\n      <th>25%</th>\n      <td>11.700000</td>\n      <td>16.170000</td>\n      <td>75.170000</td>\n      <td>420.300000</td>\n      <td>0.086370</td>\n      <td>0.064920</td>\n      <td>0.029560</td>\n      <td>0.020310</td>\n      <td>0.161900</td>\n      <td>0.057700</td>\n      <td>...</td>\n      <td>21.080000</td>\n      <td>84.110000</td>\n      <td>515.300000</td>\n      <td>0.116600</td>\n      <td>0.147200</td>\n      <td>0.114500</td>\n      <td>0.064930</td>\n      <td>0.250400</td>\n      <td>0.071460</td>\n      <td>0.000000</td>\n    </tr>\n    <tr>\n      <th>50%</th>\n      <td>13.370000</td>\n      <td>18.840000</td>\n      <td>86.240000</td>\n      <td>551.100000</td>\n      <td>0.095870</td>\n      <td>0.092630</td>\n      <td>0.061540</td>\n      <td>0.033500</td>\n      <td>0.179200</td>\n      <td>0.061540</td>\n      <td>...</td>\n      <td>25.410000</td>\n      <td>97.660000</td>\n      <td>686.500000</td>\n      <td>0.131300</td>\n      <td>0.211900</td>\n      <td>0.226700</td>\n      <td>0.099930</td>\n      <td>0.282200</td>\n      <td>0.080040</td>\n      <td>1.000000</td>\n    </tr>\n    <tr>\n      <th>75%</th>\n      <td>15.780000</td>\n      <td>21.800000</td>\n      <td>104.100000</td>\n      <td>782.700000</td>\n      <td>0.105300</td>\n      <td>0.130400</td>\n      <td>0.130700</td>\n      <td>0.074000</td>\n      <td>0.195700</td>\n      <td>0.066120</td>\n      <td>...</td>\n      <td>29.720000</td>\n      <td>125.400000</td>\n      <td>1084.000000</td>\n      <td>0.146000</td>\n      <td>0.339100</td>\n      <td>0.382900</td>\n      <td>0.161400</td>\n      <td>0.317900</td>\n      <td>0.092080</td>\n      <td>1.000000</td>\n    </tr>\n    <tr>\n      <th>max</th>\n      <td>28.110000</td>\n      <td>39.280000</td>\n      <td>188.500000</td>\n      <td>2501.000000</td>\n      <td>0.163400</td>\n      <td>0.345400</td>\n      <td>0.426800</td>\n      <td>0.201200</td>\n      <td>0.304000</td>\n      <td>0.097440</td>\n      <td>...</td>\n      <td>49.540000</td>\n      <td>251.200000</td>\n      <td>4254.000000</td>\n      <td>0.222600</td>\n      <td>1.058000</td>\n      <td>1.252000</td>\n      <td>0.291000</td>\n      <td>0.663800</td>\n      <td>0.207500</td>\n      <td>1.000000</td>\n    </tr>\n  </tbody>\n</table>\n<p>8 rows × 31 columns</p>\n</div>"
     },
     "metadata": {},
     "execution_count": 88
    }
   ],
   "source": [
    "data.describe()"
   ]
  },
  {
   "cell_type": "code",
   "execution_count": 89,
   "metadata": {},
   "outputs": [
    {
     "output_type": "stream",
     "name": "stdout",
     "text": [
      "1    357\n0    212\nName: class, dtype: int64\n"
     ]
    }
   ],
   "source": [
    "print(data['class'].value_counts())"
   ]
  },
  {
   "cell_type": "code",
   "execution_count": 90,
   "metadata": {},
   "outputs": [
    {
     "output_type": "stream",
     "name": "stdout",
     "text": [
      "['malignant' 'benign']\n"
     ]
    }
   ],
   "source": [
    "print(cancer_ds.target_names)"
   ]
  },
  {
   "cell_type": "code",
   "execution_count": 91,
   "metadata": {},
   "outputs": [
    {
     "output_type": "stream",
     "name": "stdout",
     "text": [
      "       mean radius  mean texture  mean perimeter   mean area  mean smoothness  \\\nclass                                                                           \n0        17.462830     21.604906      115.365377  978.376415         0.102898   \n1        12.146524     17.914762       78.075406  462.790196         0.092478   \n\n       mean compactness  mean concavity  mean concave points  mean symmetry  \\\nclass                                                                         \n0              0.145188        0.160775             0.087990       0.192909   \n1              0.080085        0.046058             0.025717       0.174186   \n\n       mean fractal dimension  ...  worst radius  worst texture  \\\nclass                          ...                                \n0                    0.062680  ...     21.134811      29.318208   \n1                    0.062867  ...     13.379801      23.515070   \n\n       worst perimeter   worst area  worst smoothness  worst compactness  \\\nclass                                                                      \n0           141.370330  1422.286321          0.144845           0.374824   \n1            87.005938   558.899440          0.124959           0.182673   \n\n       worst concavity  worst concave points  worst symmetry  \\\nclass                                                          \n0             0.450606              0.182237        0.323468   \n1             0.166238              0.074444        0.270246   \n\n       worst fractal dimension  \nclass                           \n0                     0.091530  \n1                     0.079442  \n\n[2 rows x 30 columns]\n"
     ]
    }
   ],
   "source": [
    "print(data.groupby('class').mean())"
   ]
  },
  {
   "source": [
    "## Train Test Split"
   ],
   "cell_type": "markdown",
   "metadata": {}
  },
  {
   "cell_type": "code",
   "execution_count": 92,
   "metadata": {},
   "outputs": [],
   "source": [
    "from sklearn.model_selection import train_test_split"
   ]
  },
  {
   "cell_type": "code",
   "execution_count": 93,
   "metadata": {},
   "outputs": [],
   "source": [
    "X = data.drop('class', axis=1)\n",
    "Y = data['class']"
   ]
  },
  {
   "cell_type": "code",
   "execution_count": 94,
   "metadata": {},
   "outputs": [
    {
     "output_type": "execute_result",
     "data": {
      "text/plain": [
       "pandas.core.frame.DataFrame"
      ]
     },
     "metadata": {},
     "execution_count": 94
    }
   ],
   "source": [
    "type(X)"
   ]
  },
  {
   "cell_type": "code",
   "execution_count": 95,
   "metadata": {},
   "outputs": [],
   "source": [
    "# Splitting the dataset\n",
    "X_train, X_test, Y_train, Y_test = train_test_split(X, Y)\n",
    "# X_train, X_test, Y_train, Y_test = train_test_split(X, Y, test_size=0.1)"
   ]
  },
  {
   "cell_type": "code",
   "execution_count": 96,
   "metadata": {},
   "outputs": [
    {
     "output_type": "stream",
     "name": "stdout",
     "text": [
      "(569,) (426,) (143,)\n"
     ]
    }
   ],
   "source": [
    "print(Y.shape, Y_train.shape, Y_test.shape)"
   ]
  },
  {
   "source": [
    "Lab 4\n"
   ],
   "cell_type": "markdown",
   "metadata": {}
  },
  {
   "cell_type": "code",
   "execution_count": 97,
   "metadata": {},
   "outputs": [],
   "source": [
    "# Stratify param - tries to divide the positives and negatives(in this case as 'Y' is passed as the value for the stratify param) proportionaly (even) among test and train dataset\n",
    "\n",
    "# In this context, stratification means that the train_test_split method returns training and test subsets that have the same proportions of class labels as the input dataset.\n",
    "X_train, X_test, Y_train, Y_test = train_test_split(X, Y, test_size = 0.1, stratify = Y)\n"
   ]
  },
  {
   "cell_type": "code",
   "execution_count": 98,
   "metadata": {},
   "outputs": [
    {
     "output_type": "stream",
     "name": "stdout",
     "text": [
      "(569,) (512,) (57,)\n"
     ]
    }
   ],
   "source": [
    "print(Y.shape, Y_train.shape, Y_test.shape)\n"
   ]
  },
  {
   "cell_type": "code",
   "execution_count": 99,
   "metadata": {},
   "outputs": [
    {
     "output_type": "stream",
     "name": "stdout",
     "text": [
      "mean radius                 14.153645\nmean texture                19.272109\nmean perimeter              92.161816\nmean area                  658.339648\nmean smoothness              0.096439\nmean compactness             0.104928\nmean concavity               0.089360\nmean concave points          0.049209\nmean symmetry                0.180910\nmean fractal dimension       0.062827\nradius error                 0.409726\ntexture error                1.212468\nperimeter error              2.894126\narea error                  41.044080\nsmoothness error             0.007089\ncompactness error            0.025641\nconcavity error              0.032242\nconcave points error         0.011871\nsymmetry error               0.020497\nfractal dimension error      0.003825\nworst radius                16.312684\nworst texture               25.660039\nworst perimeter            107.560820\nworst area                 887.789648\nworst smoothness             0.132537\nworst compactness            0.254607\nworst concavity              0.272519\nworst concave points         0.114884\nworst symmetry               0.289106\nworst fractal dimension      0.083915\ndtype: float64 mean radius                 13.890579\nmean texture                19.447193\nmean perimeter              90.237368\nmean area                  623.894737\nmean smoothness              0.095651\nmean compactness             0.099072\nmean concavity               0.083766\nmean concave points          0.046313\nmean symmetry                0.183421\nmean fractal dimension       0.062529\nradius error                 0.364263\ntexture error                1.256247\nperimeter error              2.613947\narea error                  33.986474\nsmoothness error             0.006607\ncompactness error            0.024013\nconcavity error              0.028768\nconcave points error         0.011121\nsymmetry error               0.020953\nfractal dimension error      0.003522\nworst radius                15.878509\nworst texture               25.831579\nworst perimeter            104.570000\nworst area                 815.850877\nworst smoothness             0.130852\nworst compactness            0.251191\nworst concavity              0.269216\nworst concave points         0.112113\nworst symmetry               0.298788\nworst fractal dimension      0.084223\ndtype: float64 mean radius                 14.127292\nmean texture                19.289649\nmean perimeter              91.969033\nmean area                  654.889104\nmean smoothness              0.096360\nmean compactness             0.104341\nmean concavity               0.088799\nmean concave points          0.048919\nmean symmetry                0.181162\nmean fractal dimension       0.062798\nradius error                 0.405172\ntexture error                1.216853\nperimeter error              2.866059\narea error                  40.337079\nsmoothness error             0.007041\ncompactness error            0.025478\nconcavity error              0.031894\nconcave points error         0.011796\nsymmetry error               0.020542\nfractal dimension error      0.003795\nworst radius                16.269190\nworst texture               25.677223\nworst perimeter            107.261213\nworst area                 880.583128\nworst smoothness             0.132369\nworst compactness            0.254265\nworst concavity              0.272188\nworst concave points         0.114606\nworst symmetry               0.290076\nworst fractal dimension      0.083946\ndtype: float64\n"
     ]
    }
   ],
   "source": [
    "print(X_train.mean(), X_test.mean(), X.mean())\n"
   ]
  },
  {
   "cell_type": "code",
   "execution_count": 100,
   "metadata": {},
   "outputs": [],
   "source": [
    "# Random_state param\n",
    "\n",
    "X_train, X_test, Y_train, Y_test = train_test_split(X, Y, test_size = 0.1, stratify = Y, random_state=10)\n"
   ]
  },
  {
   "source": [
    "Random_state can be 0 or 1 or any other integer. It should be the same value if you want to validate your processing over multiple runs of the code. \n",
    "\n",
    "the random_state parameter is used for initializing the internal random number generator, which will decide the splitting of data into train and test indices in your case.\n",
    "\n",
    "If random_state is None or np.random, then a randomly-initialized RandomState object is returned.\n",
    "\n",
    "If random_state is an integer, then it is used to seed a new RandomState object.\n",
    "\n",
    "This is to check and validate the data when running the code multiple times. Setting random_state a fixed value will guarantee that the same sequence of random numbers is generated each time you run the code."
   ],
   "cell_type": "markdown",
   "metadata": {}
  },
  {
   "cell_type": "code",
   "execution_count": 101,
   "metadata": {},
   "outputs": [
    {
     "output_type": "stream",
     "name": "stdout",
     "text": [
      "mean radius                 14.119902\nmean texture                19.275898\nmean perimeter              91.879395\nmean area                  654.603711\nmean smoothness              0.096161\nmean compactness             0.103251\nmean concavity               0.087585\nmean concave points          0.048536\nmean symmetry                0.181293\nmean fractal dimension       0.062691\nradius error                 0.403297\ntexture error                1.218786\nperimeter error              2.849795\narea error                  40.127699\nsmoothness error             0.007072\ncompactness error            0.025176\nconcavity error              0.031683\nconcave points error         0.011771\nsymmetry error               0.020537\nfractal dimension error      0.003751\nworst radius                16.233904\nworst texture               25.619766\nworst perimeter            106.947520\nworst area                 877.067188\nworst smoothness             0.131886\nworst compactness            0.250044\nworst concavity              0.267618\nworst concave points         0.113476\nworst symmetry               0.289100\nworst fractal dimension      0.083540\ndtype: float64 mean radius                 14.193667\nmean texture                19.413158\nmean perimeter              92.774211\nmean area                  657.452632\nmean smoothness              0.098146\nmean compactness             0.114135\nmean concavity               0.099707\nmean concave points          0.052358\nmean symmetry                0.179988\nmean fractal dimension       0.063753\nradius error                 0.422012\ntexture error                1.199496\nperimeter error              3.012154\narea error                  42.217825\nsmoothness error             0.006761\ncompactness error            0.028192\nconcavity error              0.033787\nconcave points error         0.012021\nsymmetry error               0.020587\nfractal dimension error      0.004194\nworst radius                16.586140\nworst texture               26.193333\nworst perimeter            110.078947\nworst area                 912.164912\nworst smoothness             0.136701\nworst compactness            0.292180\nworst concavity              0.313247\nworst concave points         0.124759\nworst symmetry               0.298839\nworst fractal dimension      0.087591\ndtype: float64 mean radius                 14.127292\nmean texture                19.289649\nmean perimeter              91.969033\nmean area                  654.889104\nmean smoothness              0.096360\nmean compactness             0.104341\nmean concavity               0.088799\nmean concave points          0.048919\nmean symmetry                0.181162\nmean fractal dimension       0.062798\nradius error                 0.405172\ntexture error                1.216853\nperimeter error              2.866059\narea error                  40.337079\nsmoothness error             0.007041\ncompactness error            0.025478\nconcavity error              0.031894\nconcave points error         0.011796\nsymmetry error               0.020542\nfractal dimension error      0.003795\nworst radius                16.269190\nworst texture               25.677223\nworst perimeter            107.261213\nworst area                 880.583128\nworst smoothness             0.132369\nworst compactness            0.254265\nworst concavity              0.272188\nworst concave points         0.114606\nworst symmetry               0.290076\nworst fractal dimension      0.083946\ndtype: float64\n"
     ]
    }
   ],
   "source": [
    "# Mean of each of the features of the following sets\n",
    "print(X_train.mean(), X_test.mean(), X.mean())"
   ]
  },
  {
   "cell_type": "code",
   "execution_count": 102,
   "metadata": {},
   "outputs": [],
   "source": [
    "# * HW explore one more argument and analyse its use"
   ]
  },
  {
   "source": [
    "## Binarised Input"
   ],
   "cell_type": "markdown",
   "metadata": {}
  },
  {
   "source": [
    "pd.cut will take care of a threshold value for every column and will assign the given labels to it\n",
    "\n",
    "Bin values into discrete intervals.\n",
    "\n",
    "Use cut when you need to segment and sort data values into bins. This function is also useful for going from a continuous variable to a categorical variable. For example, cut could convert ages to groups of age ranges. Supports binning into an equal number of bins, or a pre-specified array of bins."
   ],
   "cell_type": "markdown",
   "metadata": {}
  },
  {
   "cell_type": "code",
   "execution_count": 103,
   "metadata": {},
   "outputs": [],
   "source": [
    "X_binarised_train= X_train.apply(pd.cut, bins = 2, labels = [1,0]) #(labels = [1,0]) != ([0,1])\n",
    "X_binarised_train_01= X_train.apply(pd.cut, bins = 2, labels = [0,1]) #(labels = [1,0]) != ([0,1])"
   ]
  },
  {
   "cell_type": "code",
   "execution_count": 104,
   "metadata": {},
   "outputs": [
    {
     "output_type": "stream",
     "name": "stdout",
     "text": [
      "     mean radius  mean texture  mean perimeter  mean area  mean smoothness  \\\n535        20.55         20.86          137.80     1308.0          0.10460   \n338        10.05         17.53           64.41      310.8          0.10070   \n503        23.09         19.83          152.10     1682.0          0.09342   \n26         14.58         21.53           97.41      644.8          0.10540   \n158        12.06         12.74           76.84      448.6          0.09311   \n\n     mean compactness  mean concavity  mean concave points  mean symmetry  \\\n535           0.17390         0.20850              0.13220         0.2127   \n338           0.07326         0.02511              0.01775         0.1890   \n503           0.12750         0.16760              0.10030         0.1505   \n26            0.18680         0.14250              0.08783         0.2252   \n158           0.05241         0.01972              0.01963         0.1590   \n\n     mean fractal dimension  ...  worst radius  worst texture  \\\n535                 0.06251  ...         24.30          25.48   \n338                 0.06331  ...         11.16          26.84   \n503                 0.05484  ...         30.79          23.87   \n26                  0.06924  ...         17.62          33.21   \n158                 0.05907  ...         13.14          18.41   \n\n     worst perimeter  worst area  worst smoothness  worst compactness  \\\n535           160.20      1809.0            0.1268             0.3135   \n338            71.98       384.0            0.1402             0.1402   \n503           211.50      2782.0            0.1199             0.3625   \n26            122.40       896.9            0.1525             0.6643   \n158            84.08       532.8            0.1275             0.1232   \n\n     worst concavity  worst concave points  worst symmetry  \\\n535          0.44330               0.21480          0.3077   \n338          0.10550               0.06499          0.2894   \n503          0.37940               0.22640          0.2908   \n26           0.55390               0.27010          0.4264   \n158          0.08636               0.07025          0.2514   \n\n     worst fractal dimension  \n535                  0.07569  \n338                  0.07664  \n503                  0.07277  \n26                   0.12750  \n158                  0.07898  \n\n[5 rows x 30 columns]\n    mean radius mean texture mean perimeter mean area mean smoothness  \\\n535           0            1              0         1               1   \n338           1            1              1         1               1   \n503           0            1              0         0               1   \n26            1            1              1         1               1   \n158           1            1              1         1               1   \n\n    mean compactness mean concavity mean concave points mean symmetry  \\\n535                1              1                   0             0   \n338                1              1                   1             1   \n503                1              1                   1             1   \n26                 0              1                   1             0   \n158                1              1                   1             1   \n\n    mean fractal dimension  ... worst radius worst texture worst perimeter  \\\n535                      1  ...            0             1               0   \n338                      1  ...            1             1               1   \n503                      1  ...            0             1               0   \n26                       1  ...            1             0               1   \n158                      1  ...            1             1               1   \n\n    worst area worst smoothness worst compactness worst concavity  \\\n535          1                1                 1               1   \n338          1                1                 1               1   \n503          0                1                 1               1   \n26           1                0                 0               1   \n158          1                1                 1               1   \n\n    worst concave points worst symmetry worst fractal dimension  \n535                    0              1                       1  \n338                    1              1                       1  \n503                    0              1                       1  \n26                     0              0                       0  \n158                    1              1                       1  \n\n[5 rows x 30 columns]\n    mean radius mean texture mean perimeter mean area mean smoothness  \\\n535           1            0              1         0               0   \n338           0            0              0         0               0   \n503           1            0              1         1               0   \n26            0            0              0         0               0   \n158           0            0              0         0               0   \n\n    mean compactness mean concavity mean concave points mean symmetry  \\\n535                0              0                   1             1   \n338                0              0                   0             0   \n503                0              0                   0             0   \n26                 1              0                   0             1   \n158                0              0                   0             0   \n\n    mean fractal dimension  ... worst radius worst texture worst perimeter  \\\n535                      0  ...            1             0               1   \n338                      0  ...            0             0               0   \n503                      0  ...            1             0               1   \n26                       0  ...            0             1               0   \n158                      0  ...            0             0               0   \n\n    worst area worst smoothness worst compactness worst concavity  \\\n535          0                0                 0               0   \n338          0                0                 0               0   \n503          1                0                 0               0   \n26           0                1                 1               0   \n158          0                0                 0               0   \n\n    worst concave points worst symmetry worst fractal dimension  \n535                    1              0                       0  \n338                    0              0                       0  \n503                    1              0                       0  \n26                     1              1                       1  \n158                    0              0                       0  \n\n[5 rows x 30 columns]\n"
     ]
    }
   ],
   "source": [
    "print(X_train.head())\n",
    "print(X_binarised_train.head())\n",
    "print(X_binarised_train_01.head())"
   ]
  },
  {
   "cell_type": "code",
   "execution_count": 105,
   "metadata": {
    "tags": []
   },
   "outputs": [
    {
     "output_type": "stream",
     "name": "stdout",
     "text": [
      "    mean radius mean texture mean perimeter mean area mean smoothness  \\\n563           0            0              0         0               0   \n347           1            1              1         1               1   \n44            1            0              1         1               1   \n289           1            1              1         1               1   \n424           1            1              1         1               0   \n\n    mean compactness mean concavity mean concave points mean symmetry  \\\n563                0              0                   0             0   \n347                1              1                   1             1   \n44                 1              1                   1             1   \n289                1              1                   1             0   \n424                1              1                   1             0   \n\n    mean fractal dimension  ... worst radius worst texture worst perimeter  \\\n563                      0  ...            0             1               0   \n347                      1  ...            1             1               1   \n44                       1  ...            1             0               1   \n289                      1  ...            1             1               1   \n424                      0  ...            1             1               1   \n\n    worst area worst smoothness worst compactness worst concavity  \\\n563          0                0                 1               0   \n347          1                1                 1               1   \n44           1                0                 1               1   \n289          1                1                 1               1   \n424          1                0                 1               1   \n\n    worst concave points worst symmetry worst fractal dimension  \n563                    0              1                       1  \n347                    1              1                       1  \n44                     0              0                       1  \n289                    1              1                       1  \n424                    1              1                       1  \n\n[5 rows x 30 columns]\n"
     ]
    }
   ],
   "source": [
    "X_binarised_test = X_test.apply(pd.cut, bins = 2, labels = [1,0])\n",
    "print(X_binarised_test.head())"
   ]
  },
  {
   "cell_type": "code",
   "execution_count": 106,
   "metadata": {},
   "outputs": [
    {
     "output_type": "execute_result",
     "data": {
      "text/plain": [
       "numpy.ndarray"
      ]
     },
     "metadata": {},
     "execution_count": 106
    }
   ],
   "source": [
    "# converting to array\n",
    "X_binarised_train = X_binarised_train.values\n",
    "X_binarised_test = X_binarised_test.values\n",
    "type(X_binarised_test)"
   ]
  },
  {
   "source": [
    "## ML MODEL"
   ],
   "cell_type": "markdown",
   "metadata": {}
  },
  {
   "cell_type": "code",
   "execution_count": 107,
   "metadata": {},
   "outputs": [],
   "source": [
    "import random"
   ]
  },
  {
   "cell_type": "code",
   "execution_count": 109,
   "metadata": {},
   "outputs": [
    {
     "output_type": "stream",
     "name": "stdout",
     "text": [
      "Row number:  442\nML Model says its Malignant\nActual Output -> Malignant\n"
     ]
    }
   ],
   "source": [
    "b = 10 \n",
    "# Just trying on a random row\n",
    "i= random.randint(0,X_train.shape[0])\n",
    "print('Row number: ', i)\n",
    "if np.sum(X_binarised_train[i,:]) >= b :\n",
    "    print('ML Model says its Malignant')\n",
    "else:\n",
    "    print('ML Model says its Benign')\n",
    "\n",
    "if Y_train[i] == 1:\n",
    "    print('Actual Output -> Malignant')\n",
    "else:\n",
    "    print('Actual Output -> Benign')\n"
   ]
  },
  {
   "cell_type": "code",
   "execution_count": 110,
   "metadata": {},
   "outputs": [],
   "source": [
    "Y_train = Y_train.values"
   ]
  },
  {
   "cell_type": "code",
   "execution_count": 77,
   "metadata": {},
   "outputs": [],
   "source": [
    "def accuracy(b,Y_train, X_binarised_train):\n",
    "    accuratePredictedValues = 0 # stores the count of correctly predicted cases\n",
    "    for x in range(0, Y_train.shape[0]):\n",
    "        if np.sum(X_binarised_train[x,:]) >= b and Y_train[x] == 1:\n",
    "            accuratePredictedValues += 1\n",
    "        elif np.sum(X_binarised_train[x,:]) < b and Y_train[x] == 0:\n",
    "            accuratePredictedValues += 1\n",
    "\n",
    "    return(accuratePredictedValues/Y_train.shape[0])\n"
   ]
  },
  {
   "cell_type": "code",
   "execution_count": 78,
   "metadata": {
    "tags": []
   },
   "outputs": [
    {
     "output_type": "stream",
     "name": "stdout",
     "text": [
      "Value of b :  0\n",
      "Accuracy:  0.626953125\n",
      "Value of b :  1\n",
      "Accuracy:  0.626953125\n",
      "Value of b :  2\n",
      "Accuracy:  0.626953125\n",
      "Value of b :  3\n",
      "Accuracy:  0.626953125\n",
      "Value of b :  4\n",
      "Accuracy:  0.626953125\n",
      "Value of b :  5\n",
      "Accuracy:  0.626953125\n",
      "Value of b :  6\n",
      "Accuracy:  0.626953125\n",
      "Value of b :  7\n",
      "Accuracy:  0.626953125\n",
      "Value of b :  8\n",
      "Accuracy:  0.626953125\n",
      "Value of b :  9\n",
      "Accuracy:  0.626953125\n",
      "Value of b :  10\n",
      "Accuracy:  0.626953125\n",
      "Value of b :  11\n",
      "Accuracy:  0.626953125\n",
      "Value of b :  12\n",
      "Accuracy:  0.626953125\n",
      "Value of b :  13\n",
      "Accuracy:  0.62890625\n",
      "Value of b :  14\n",
      "Accuracy:  0.634765625\n",
      "Value of b :  15\n",
      "Accuracy:  0.638671875\n",
      "Value of b :  16\n",
      "Accuracy:  0.642578125\n",
      "Value of b :  17\n",
      "Accuracy:  0.65234375\n",
      "Value of b :  18\n",
      "Accuracy:  0.658203125\n",
      "Value of b :  19\n",
      "Accuracy:  0.666015625\n",
      "Value of b :  20\n",
      "Accuracy:  0.66796875\n",
      "Value of b :  21\n",
      "Accuracy:  0.68359375\n",
      "Value of b :  22\n",
      "Accuracy:  0.703125\n",
      "Value of b :  23\n",
      "Accuracy:  0.728515625\n",
      "Value of b :  24\n",
      "Accuracy:  0.763671875\n",
      "Value of b :  25\n",
      "Accuracy:  0.806640625\n",
      "Value of b :  26\n",
      "Accuracy:  0.830078125\n",
      "Value of b :  27\n",
      "Accuracy:  0.8515625\n",
      "Value of b :  28\n",
      "Accuracy:  0.849609375\n",
      "Value of b :  29\n",
      "Accuracy:  0.82421875\n"
     ]
    }
   ],
   "source": [
    "for b in range(0,X_train.shape[1]):\n",
    "    print('Value of b : ',b)\n",
    "    print('Accuracy: ',accuracy(b, Y_train, X_binarised_train))"
   ]
  },
  {
   "cell_type": "code",
   "execution_count": null,
   "metadata": {},
   "outputs": [],
   "source": []
  }
 ]
}